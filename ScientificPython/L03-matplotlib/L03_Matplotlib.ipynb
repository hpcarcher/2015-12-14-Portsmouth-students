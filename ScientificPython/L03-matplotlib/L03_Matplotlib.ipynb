{
 "cells": [
  {
   "cell_type": "markdown",
   "metadata": {
    "slideshow": {
     "slide_type": "slide"
    }
   },
   "source": [
    "\n",
    "<hr style=\"border: solid 1px red; margin-bottom: -1% \">\n",
    "# Matplotlib <img src=\"headerlogos.png\"; style=\"float: right; width: 25%; margin-right: -1%; background-color:transparent;\"> \n",
    "<hr style=\"border: solid 1px red; margin-top: 1.5% \">\n",
    "\n",
    "Kevin Stratford  &nbsp; &nbsp; &nbsp; &nbsp; &nbsp; &nbsp; &nbsp; &nbsp; &nbsp; &nbsp;<a style=\"color: blue\">kevin@epcc.ed.ac.uk</a><br>\n",
    "Emmanouil Farsarakis &nbsp; &nbsp; <a style=\"color: blue\">farsarakis@epcc.ed.ac.uk</a><br><br>\n",
    "\n",
    "\n",
    "Other course authors: <br>\n",
    "Neelofer Banglawala <br>\n",
    "Andy Turner <br>\n",
    "Arno Proeme <br>\n",
    "\n"
   ]
  },
  {
   "cell_type": "markdown",
   "metadata": {
    "slideshow": {
     "slide_type": "slide"
    }
   },
   "source": [
    "<hr style=\"border: solid 1px red; margin-bottom: 2% \">\n",
    "&nbsp;<img src=\"headerlogos.png\"; style=\"float: right; width: 25%; margin-right: -1%; margin-top: 0%; margin-bottom: -1%\">\n",
    "<hr style=\"border: solid 1px red; margin-bottom: -1%; \">\n",
    "\n",
    "\n",
    "\n",
    "<img src=\"reusematerial.png\"; style=\"float: center; width: 90\"; >"
   ]
  },
  {
   "cell_type": "markdown",
   "metadata": {
    "slideshow": {
     "slide_type": "slide"
    }
   },
   "source": [
    "\n",
    "<hr style=\"border: solid 1px red; margin-bottom: 2% \">\n",
    "&nbsp;<img src=\"headerlogos.png\"; style=\"float: right; width: 25%; margin-right: -1%; margin-top: 0%; margin-bottom: -1%\">\n",
    "<hr style=\"border: solid 1px red; margin-bottom: 1%; \">\n",
    "\n",
    "\n",
    "<div align=\"center\" style=\"float: center; color: blue;\">\n",
    "www.archer.ac.uk <br><br>\n",
    "support@archer.ac.uk\n",
    "</div>\n",
    "\n",
    "<div>\n",
    "<img src=\"epsrclogo.png\"; style=\"float: left; width: 35%; margin-left: 20%; margin-top: 2% \">\n",
    "<img src=\"nerclogo.png\"; style=\"float: left; width: 25%; margin-left: 5%\">\n",
    "</div>\n",
    "<br><br>\n",
    "<br><br>\n",
    "<div>\n",
    "<img src=\"craylogo.png\"; style=\"float: left; width: 30%; margin-left: 10%; margin-top: 6% \">\n",
    "<img src=\"epcclogo.png\"; style=\"float: left; width: 30%; margin-left: 5%; margin-top: 6% \" >\n",
    "<img src=\"ediunilogo.png\"; style=\"float: left; width: 20%; margin-left: 5%; margin-top: 2% \" > \n",
    "</div>\n",
    "<br>\n",
    "<br>\n"
   ]
  },
  {
   "cell_type": "markdown",
   "metadata": {
    "slideshow": {
     "slide_type": "slide"
    }
   },
   "source": [
    "<hr style=\"border: solid 1px red; margin-bottom: 2% \">\n",
    "[Matplotlib] &nbsp;  What is matplotlib? &nbsp; I<img src=\"headerlogos.png\"; style=\"float: right; width: 25%; margin-right: -1%; margin-top: 0%; margin-bottom: -1%\">\n",
    "<hr style=\"border: solid 1px red; margin-bottom: -1%; \">\n",
    "\n",
    "Matplotlib is a plotting library for Python\n",
    "\n",
    "&nbsp; &nbsp; “make the easy things easy and the hard things possible”\n",
    "\n",
    "* Capable of:\n",
    "\n",
    "  * interactive and non-interactive plotting\n",
    "  * Producing publication-quality figures\n",
    "  \n",
    "* Large amount of functionality:\n",
    "\n",
    "  * scientific and statistical plots, heatmaps\n",
    "  * surfaces, map-based plotting and more...\n",
    "  \n"
   ]
  },
  {
   "cell_type": "markdown",
   "metadata": {
    "slideshow": {
     "slide_type": "slide"
    }
   },
   "source": [
    "<hr style=\"border: solid 1px red; margin-bottom: 2% \">\n",
    "[Matplotlib] &nbsp;  What is matplotlib? &nbsp; II<img src=\"headerlogos.png\"; style=\"float: right; width: 25%; margin-right: -1%; margin-top: 0%; margin-bottom: -1%\">\n",
    "<hr style=\"border: solid 1px red; margin-bottom: -1%; \">\n",
    "  \n",
    "  \n",
    "Matplotlib is Closely integrated with NumPy\n",
    "  \n",
    "  *  Use numpy functions for reading data\n",
    "  *  As data is in numpy, matplotlib can plot it easily\n",
    "\n",
    "*  Documentation:\n",
    "\n",
    "  * http://matplotlib.org/"
   ]
  },
  {
   "cell_type": "markdown",
   "metadata": {
    "slideshow": {
     "slide_type": "slide"
    }
   },
   "source": [
    "<hr style=\"border: solid 1px red; margin-bottom: 2% \">\n",
    "[Matplotlib] &nbsp;  What is matplolib? &nbsp; III <img src=\"headerlogos.png\"; style=\"float: right; width: 25%; margin-right: -1%; margin-top: 0%; margin-bottom: -1%\">\n",
    "<hr style=\"border: solid 1px red; margin-bottom: -1%; \">\n",
    "\n",
    "* People often want to have a quick look at data in a plain text file\n",
    "  \n",
    "  * Gnuplot/Excel often used for this but matplotlib can provide a simple, feature-rich replacement\n",
    "  \n",
    "  * Manipulate data interactively and replot\n",
    "  \n",
    "  * Can save the session to keep record of what you did if required\n",
    "\n",
    "Creating high-quality plots is easy in matplotlib!\n"
   ]
  },
  {
   "cell_type": "markdown",
   "metadata": {
    "slideshow": {
     "slide_type": "notes"
    }
   },
   "source": [
    "* 2D plotting only (VTK for 3D plots)\n",
    "* grew out of MATLAB\n",
    "* mostly pure Python but makes heavy use of numpy and is efficient with very large arrays... \n",
    "* requirements for developer when looking for a plotting package (can I think of other requirements?)\u000b",
    "-- Plots should look great - publication quality. One important requirement for me is that the text looks good (antialiased, etc.)\n",
    "  * Postscript output for inclusion with TeX documents\n",
    "  * Embeddable in a graphical user interface for application development\n",
    "  * Code should be easy enough that I can understand it and extend it\n",
    "  * Making plots should be easy"
   ]
  },
  {
   "cell_type": "markdown",
   "metadata": {
    "slideshow": {
     "slide_type": "notes"
    }
   },
   "source": [
    "* fig.show() <-- when to use this? in scripts only?\n",
    "\n",
    "  * <p style=\"font-size: 80%\">launching an IPython shell with the `--pylab` option tells matplotlib to plot figures to the screen i.e. activates \"interactive\" plotting mode </p>\n",
    "    \n",
    "matplotlib --> pyplot \n",
    "Explain pylab = pyplot + numpy, to create convenient environment for interactive plotting BUT no longer recommended as this is like : from pylab import `*`\n",
    "and universal imports are discouraged. So either\n",
    "\n",
    "ipython --matplotlib : who, %who --> interactive namespace empty for both\n",
    "ipython --pylab : %who --> interactive namespace empty, who --> <function numpy.lib.utils.who>\n",
    "\n",
    "fig = figure() --> don't need this line in ipython generally, but will if using ARCHER. figure will be generated by default, this gives a handle to figure, and helps distinguish when you have more than one figure\n",
    "plt.plot()\n",
    "\n",
    "* test plot_this.py on ARCHER... see with and without X server, does script try to produce a figure? Why would we need to use Agg? Perhaps we don't when running non-interactively? Check... \n",
    "To support all of these use cases, matplotlib can target different outputs, and each of these capabilities is called a backend; the “frontend” is the user facing code, ie the plotting code, whereas the “backend” does all the hard work behind-the-scenes to make the figure. There are two types of backends: user interface backends (for use in pygtk, wxpython, tkinter, qt, macosx, or fltk; also referred to as “interactive backends”) and hardcopy backends to make image files (PNG, SVG, PDF, PS; also referred to as “non-interactive backends”)\n",
    "\n",
    "MAKE CLEAR some backends suppress need for diplay (don't confuse with 'interactive')? \n",
    "\n",
    "When in non-interactive mode, figures don't display anyway. Calling Agg ensures nice rendering of figure, don't need to suppress X server display? BE CLEAR why do you need \"use(\"Agg\") in a script???"
   ]
  },
  {
   "cell_type": "markdown",
   "metadata": {
    "slideshow": {
     "slide_type": "slide"
    }
   },
   "source": [
    "<hr style=\"border: solid 1px red; margin-bottom: 2% \">\n",
    "[Matplotlib] &nbsp; Basic concepts &nbsp; I <img src=\"headerlogos.png\"; style=\"float: right; width: 25%; margin-right: -1%; margin-top: 0%; margin-bottom: -1%\">\n",
    "<hr style=\"border: solid 1px red; margin-bottom: -1%; \">\n",
    "\n",
    "<img src=\"figuremap.png\"; style=\"float: right; width: 30%; margin-right: 2%; margin-top: 0%; margin-bottom: 1%\">\n",
    "\n",
    "* Everything is assembled by Python commands\n",
    "\n",
    "* Create a figure with an axes area (this is the plotting area)\n",
    "\n",
    "* Can create multiple plots in one figure\n"
   ]
  },
  {
   "cell_type": "markdown",
   "metadata": {
    "slideshow": {
     "slide_type": "slide"
    }
   },
   "source": [
    "<hr style=\"border: solid 1px red; margin-bottom: 2% \">\n",
    "[Matplotlib] &nbsp; Basic concepts &nbsp; II  <img src=\"headerlogos.png\"; style=\"float: right; width: 25%; margin-right: -1%; margin-top: 0%; margin-bottom: -1%\">\n",
    "<hr style=\"border: solid 1px red; margin-bottom: -1%; \">\n",
    "\n",
    "<img src=\"figuremap.png\"; style=\"float: right; width: 30%; margin-right: 2%; margin-top: 0%; margin-bottom: 1%\">\n",
    "\n",
    "* Only one figure (or axes) is active at a given time (i.e. current figure, current axes)\n",
    "\n",
    "* In an IPython shell, can plot to the screen (<b>interactive</b> mode) or save to image (<b>non-interactive</b> mode)\n",
    "\n",
    "* Can use the <i>show()</i> command in, for example, a Python script to display the plot\n",
    "\n",
    "\n",
    "<i>matplotlib.pyplot</i> contains the high-level functions we need to do all the above and more\n"
   ]
  },
  {
   "cell_type": "markdown",
   "metadata": {
    "collapsed": true,
    "slideshow": {
     "slide_type": "notes"
    }
   },
   "source": [
    "Notes\n",
    "* Matplotlib is the whole package; matplotlib.pyplot is a module in matplotlib; and pylab is a module that gets installed alongside matplotlib.\n",
    "\n",
    "* Pyplot provides the state-machine interface to the underlying object-oriented plotting library. The state-machine implicitly and automatically creates figures and axes to achieve the desired plot. For example \n",
    "\n",
    "* pylab is a convenience module that bulk imports matplotlib.pyplot (for plotting) and numpy (for mathematics and working with arrays) in a single name space. Although many examples use pylab, it is no longer recommended."
   ]
  },
  {
   "cell_type": "markdown",
   "metadata": {
    "slideshow": {
     "slide_type": "slide"
    }
   },
   "source": [
    "<hr style=\"border: solid 1px red; margin-bottom: 2% \">\n",
    "[Matplotlib] &nbsp; Basic plotting <img src=\"headerlogos.png\"; style=\"float: right; width: 25%; margin-right: -1%; margin-top: 0%; margin-bottom: -1%\">\n",
    "<hr style=\"border: solid 1px red; margin-bottom: -1%; \">\n",
    "\n",
    "Launch an IPython shell, import <i>pyplot</i> and <i>numpy</i>"
   ]
  },
  {
   "cell_type": "markdown",
   "metadata": {
    "slideshow": {
     "slide_type": "notes"
    }
   },
   "source": [
    "Notes\n",
    "9. explain \"%matplotlib\" and say that you will explain later what this does\n",
    "1. basic plot, line\n",
    "2. use symbols (change pts), different colour\n",
    "3. add x again with different line colour\n",
    "4. show fig = plt.figure() --> plt.title('A Title'); \n",
    "5. then plt.plot() again\n",
    "6. add second plot to plt.plot()"
   ]
  },
  {
   "cell_type": "code",
   "execution_count": 3,
   "metadata": {
    "collapsed": false,
    "slideshow": {
     "slide_type": "-"
    }
   },
   "outputs": [],
   "source": [
    "# add 'inline' option if using a notebook\n",
    "%matplotlib inline \n",
    "import matplotlib.pyplot as plt; import numpy as np"
   ]
  },
  {
   "cell_type": "code",
   "execution_count": 4,
   "metadata": {
    "collapsed": false,
    "slideshow": {
     "slide_type": "-"
    }
   },
   "outputs": [],
   "source": [
    "xmin=0; xmax=10; pts = 50;\n",
    "x = np.linspace(xmin, xmax, pts); \n",
    "y = np.cos(x);"
   ]
  },
  {
   "cell_type": "code",
   "execution_count": 5,
   "metadata": {
    "collapsed": false,
    "slideshow": {
     "slide_type": "-"
    }
   },
   "outputs": [
    {
     "data": {
      "image/png": "[encoded data removed]",
      "text/plain": [
       "<matplotlib.figure.Figure at 0x109c7f510>"
      ]
     },
     "metadata": {},
     "output_type": "display_data"
    }
   ],
   "source": [
    "# line, markers, 2 plots, fig, title then plot\n",
    "plt.plot(x,y,'ro'); # , x, y, 'g-'# #"
   ]
  },
  {
   "cell_type": "markdown",
   "metadata": {
    "slideshow": {
     "slide_type": "-"
    }
   },
   "source": [
    "&nbsp;"
   ]
  },
  {
   "cell_type": "markdown",
   "metadata": {
    "slideshow": {
     "slide_type": "slide"
    }
   },
   "source": [
    "<hr style=\"border: solid 1px red; margin-bottom: 2% \">\n",
    "[Matplotlib] &nbsp; Saving images to file  <img src=\"headerlogos.png\"; style=\"float: right; width: 25%; margin-right: -1%; margin-top: 0%; margin-bottom: -1%\">\n",
    "<hr style=\"border: solid 1px red; margin-bottom: -1%; \">\n",
    "\n",
    "*  Saving to image file is simple using <i>savefig</i>\n",
    "\n",
    "*  File format is determined from the extension you supply\n",
    "\n",
    "*  Resolution set using dpi option\n",
    "\n",
    "* Commonly supports: png, jpg, pdf, ps\n"
   ]
  },
  {
   "cell_type": "markdown",
   "metadata": {
    "slideshow": {
     "slide_type": "notes"
    }
   },
   "source": [
    "Note\n",
    "1. Students to do basic plotting exercise (up to saving image). Give them 10-15 mins to do this"
   ]
  },
  {
   "cell_type": "code",
   "execution_count": null,
   "metadata": {
    "collapsed": false,
    "slideshow": {
     "slide_type": "-"
    }
   },
   "outputs": [],
   "source": [
    "# save image to file in different formats\n",
    "plt.savefig(\"cos_plot.pdf\");\n",
    "plt.savefig(\"cos_plot.png\", dpi=300);  # higher resolution (dpi) "
   ]
  },
  {
   "cell_type": "markdown",
   "metadata": {
    "slideshow": {
     "slide_type": "-"
    }
   },
   "source": [
    "Time to create some plots. Please complete <b>Basic Plotting</b> (pages 1 - 7) of the Matplotlib exercise."
   ]
  },
  {
   "cell_type": "markdown",
   "metadata": {
    "slideshow": {
     "slide_type": "slide"
    }
   },
   "source": [
    "<hr style=\"border: solid 1px red; margin-bottom: 2% \">\n",
    "[Matplotlib] &nbsp; What is a backend? (++) &nbsp; I<img src=\"headerlogos.png\"; style=\"float: right; width: 25%; margin-right: -1%; margin-top: 0%; margin-bottom: -1%\">\n",
    "<hr style=\"border: solid 1px red; margin-bottom: -1%; \">\n",
    "\n",
    "Matplotlib consists of two parts, a frontend and a backend:\n",
    " \n",
    "  * Frontend : the user facing code i.e the plotting code\n",
    "  * Backend : does all the hard work behind-the-scenes to make the figure\n",
    " \n",
    "By offering different backends, Matplotlib can support a wide range of different use cases and output formats.\n",
    " \n",
    " \n",
    " \n",
    "\n"
   ]
  },
  {
   "cell_type": "markdown",
   "metadata": {
    "slideshow": {
     "slide_type": "slide"
    }
   },
   "source": [
    "<hr style=\"border: solid 1px red; margin-bottom: 2% \">\n",
    "[Matplotlib] &nbsp; What is a backend? (++) &nbsp; II<img src=\"headerlogos.png\"; style=\"float: right; width: 25%; margin-right: -1%; margin-top: 0%; margin-bottom: -1%\">\n",
    "<hr style=\"border: solid 1px red; margin-bottom: -1%; \">\n",
    "\n",
    "There are two types of backend:</p>\n",
    "\n",
    "  * User interface, or \"<b>interactive</b>\", backends \n",
    "  * Hardcopy, or \"<b>non-interactive</b>\", backends to make image files\n",
    "  \n",
    "   * e.g. Agg (png), Cairo (svg), PDF (pdf), PS (eps, ps)\n",
    "   \n",
    "   * These are known as rendering engines and determine how your image is drawn\n",
    "  \n",
    " \n",
    " \n",
    " \n",
    "\n"
   ]
  },
  {
   "cell_type": "markdown",
   "metadata": {
    "slideshow": {
     "slide_type": "slide"
    }
   },
   "source": [
    "<hr style=\"border: solid 1px red; margin-bottom: 2% \">\n",
    "[Matplotlib] &nbsp; What is a backend? (++) &nbsp; III<img src=\"headerlogos.png\"; style=\"float: right; width: 25%; margin-right: -1%; margin-top: 0%; margin-bottom: -1%\">\n",
    "<hr style=\"border: solid 1px red; margin-bottom: -1%; \">\n",
    "\n",
    "\n",
    "* Check which backend is being used with: <i>matplotlib.get_backend()</i>\n",
    "   \n",
    "  * Default backend on ARCHER is Qt4Agg\n",
    "       \n",
    "\n",
    "* Switch to a different backend with <i>matplotlib.use(...)</i>\n",
    " \n",
    "  * Must issue command <b>before</b> importing matplotlib.pylot (or <i>%matplotlib</i>)\n",
    " \n",
    " \n",
    "  \n",
    " \n",
    " \n",
    " \n",
    "\n"
   ]
  },
  {
   "cell_type": "markdown",
   "metadata": {
    "slideshow": {
     "slide_type": "slide"
    }
   },
   "source": [
    "<hr style=\"border: solid 1px red; margin-bottom: 2% \">\n",
    "[Matplotlib] &nbsp; What is interactive mode? (++) &nbsp; I <img src=\"headerlogos.png\"; style=\"float: right; width: 25%; margin-right: -1%; margin-top: 0%; margin-bottom: -1%\">\n",
    "<hr style=\"border: solid 1px red; margin-bottom: -1%; \">\n",
    "\n",
    "Here we mean that a figure displays to screen as soon as you call either <i>plt.figure()</i> or <i>plt.plot()</i>. \n",
    "\n",
    "  * Furthermore, the displayed figure does not prevent you from issuing commands in the IPython shell. This means you can update the figure and see the resulting changes immediately.\n",
    "\n"
   ]
  },
  {
   "cell_type": "markdown",
   "metadata": {
    "slideshow": {
     "slide_type": "slide"
    }
   },
   "source": [
    "<hr style=\"border: solid 1px red; margin-bottom: 2% \">\n",
    "[Matplotlib] &nbsp; What is interactive mode? (++) &nbsp; II <img src=\"headerlogos.png\"; style=\"float: right; width: 25%; margin-right: -1%; margin-top: 0%; margin-bottom: -1%\">\n",
    "<hr style=\"border: solid 1px red; margin-bottom: -1%; \">\n",
    "\n",
    "In contrast, in <b>\"non-interactive\"</b> mode, the figure will not display to screen, unless you call <i>show()</i>. This is what happens when you create figures in scripts.\n",
    "\n",
    "  * If you show the figure, it \"blocks\" any further commands being issued in the shell until you have to closed the figure.\n",
    "\n"
   ]
  },
  {
   "cell_type": "markdown",
   "metadata": {
    "slideshow": {
     "slide_type": "slide"
    }
   },
   "source": [
    "<hr style=\"border: solid 1px red; margin-bottom: 2% \">\n",
    "[Matplotlib] &nbsp; What is interactive mode? (++) &nbsp; III <img src=\"headerlogos.png\"; style=\"float: right; width: 25%; margin-right: -1%; margin-top: 0%; margin-bottom: -1%\">\n",
    "<hr style=\"border: solid 1px red; margin-bottom: -1%; \">\n",
    "\n",
    "\n",
    "To confuse matters, an \"interactive\" backend does not guarantee your figures will automatically display to screen. Matplotlib has a Boolean variable in its configuration file (the <i>matplotlibrc</i> files,  more of that later) that sets the interactivity.\n",
    "\n",
    "  * You can query this with: &nbsp; <i>matplotlib.is_interactive()</i>"
   ]
  },
  {
   "cell_type": "markdown",
   "metadata": {
    "slideshow": {
     "slide_type": "slide"
    }
   },
   "source": [
    "<hr style=\"border: solid 1px red; margin-bottom: 2% \">\n",
    "[Matplotlib] &nbsp; What is interactive mode? (++) &nbsp; IV <img src=\"headerlogos.png\"; style=\"float: right; width: 25%; margin-right: -1%; margin-top: 0%; margin-bottom: -1%\">\n",
    "<hr style=\"border: solid 1px red; margin-bottom: -1%; \">\n",
    "\n",
    "\n",
    "In most cases you don't need to worry about this. \n",
    "\n",
    "The easiest way to ensure interactivity is to either:\n",
    "\n",
    "* launch an IPython shell with the <i>--matplotlib</i> option or\n",
    "\n",
    "* to issue the magic command <i>%matplotlib</i> within the IPython shell before issuing any other command. "
   ]
  },
  {
   "cell_type": "markdown",
   "metadata": {
    "slideshow": {
     "slide_type": "notes"
    }
   },
   "source": [
    "Notes\n",
    "\n",
    "\n",
    "* Actually, interactivity (plotting to screen) not guaranted by a particular backend. It is set by matplotlibrc variable \n",
    "\n",
    "What is interactive mode?\n",
    "* Use of an interactive backend (see What is a backend?) permits–but does not by itself require or ensure–plotting to the screen. Whether and when plotting to the screen occurs, and whether a script or shell session continues after a plot is drawn on the screen, depends on the functions and methods that are called, and on a state variable that determines whether matplotlib is in “interactive mode”. The default Boolean value is set by the matplotlibrc file, and may be customized like any other configuration parameter (see Customizing matplotlib). It may also be set via matplotlib.interactive(), and its value may be queried via matplotlib.is_interactive(). Turning interactive mode on and off in the middle of a stream of plotting commands, whether in a script or in a shell, is rarely needed and potentially confusing, so in the following we will assume all plotting is done with interactive mode either on or off.\n",
    "\n",
    " \n",
    "  \n",
    "   <!-- p style=\"font-size: 60%\">Advanced: matplotlib separates the renderer, what does the drawing (e.g. Agg) from the canvas, where the drawing goes. Can combine user interfaces and rendering engines to form a range of \"non-interactive\" backends such as Qt4Agg (Qt + Agg), which is the default backend on ARCHER.</p -->\n",
    "\n",
    "* IPython: on ARCHER, Qt4Agg, macosx on laptop -> neither will plot to screen, need fig.show(), plt.show() by default. Remember, show is a \"blocking\" call, need to close window to continue. Also, fig.show() will show only what you've done to date. So need to execute all figure commands before fig.show() else you'll only see empty or part completed figure.\n",
    "\n",
    "* setting %matplotlib on macosx, makes it interactive (still macosx backend).\n",
    "\n",
    "* setting %matplotlib on ARCHER will also produce plots to screen BUT might have X server issues, so we will not do this... (can do this if using your own laptop)\n",
    "\n",
    "* To make this more confusing, if using notebook, you have the interactive backend set by default so will not need to use plt.show() or fig.show()\n",
    "\n",
    "\n",
    "* <p style=\"font-size: 80%\">A lot of documentation on the website and in the mailing lists refers to the “backend” and many new users are confused by this term. matplotlib targets many different use cases and output formats. Some people use matplotlib interactively from the python shell and have plotting windows pop up when they type commands. Some people embed matplotlib into graphical user interfaces like wxpython or pygtk to build rich applications. Others use matplotlib in batch scripts to generate postscript images from some numerical simulations, and still others in web application servers to dynamically serve up graphs.</p>\n",
    "\n",
    "* <p style=\"font-size: 80%\">To support all of these use cases, matplotlib can target different outputs, and each of these capabilities is called a backend; the “frontend” is the user facing code, i.e., the plotting code, whereas the “backend” does all the hard work behind-the-scenes to make the figure. There are two types of backends: user interface backends (for use in pygtk, wxpython, tkinter, qt4, or macosx; also referred to as “interactive backends”) and hardcopy backends to make image files (PNG, SVG, PDF, PS; also referred to as “non-interactive backends”)</p>\n",
    "\n",
    "* <p style=\"font-size: 80%\"> To make things a little more customizable for graphical user interfaces, matplotlib separates the concept of the renderer (the thing that actually does the drawing) from the canvas (the place where the drawing goes). The canonical renderer for user interfaces is Agg which uses the Anti-Grain Geometry C++ library to make a raster (pixel) image of the figure. All of the user interfaces except macosx can be used with agg rendering, e.g., WXAgg, GTKAgg, QT4Agg, TkAgg. In addition, some of the user interfaces support other rendering engines. For example, with GTK, you can also select GDK rendering (backend GTK) or Cairo rendering (backend GTKCairo).</p>\n",
    "\n",
    "* need to explain interactive mode and backend mode, e.g. Agg\n",
    "* got interactive (shell/notebook) and non-interactive (script)\n",
    "* but also mean interactive in the sense that figure prints to screen\n",
    "* be default this is the case for shell, not for non-interactive\n",
    "* to switch it off in shell, set backend to non-interactive i.e. save to file and can choose formats\n",
    "* to switch it on in non-interactive script, savefig FIRST then do fig.show() or plt.show() AFTER savefig (if you are saving figure)\n",
    "* cannot call non-interactive backend if:\n",
    "    matplotlib.pyplot already been called, must be before this!\n",
    "* can call %matplotlib at any point after you have set non-interactive backend to make shell interactive again"
   ]
  },
  {
   "cell_type": "markdown",
   "metadata": {
    "slideshow": {
     "slide_type": "slide"
    }
   },
   "source": [
    "<hr style=\"border: solid 1px red; margin-bottom: 2% \">\n",
    "[Matplotlib] &nbsp; Plot customisations &nbsp; I<img src=\"headerlogos.png\"; style=\"float: right; width: 25%; margin-right: -1%; margin-top: 0%; margin-bottom: -1%\">\n",
    "<hr style=\"border: solid 1px red; margin-bottom: -1%; \">\n",
    "\n",
    "There are many ways to customise a plot. Play with the following properties."
   ]
  },
  {
   "cell_type": "markdown",
   "metadata": {
    "slideshow": {
     "slide_type": "notes"
    }
   },
   "source": [
    "Notes\n",
    "0. Should explain difference between certain routines in figure, pylot, axes etc.?\n",
    "1. Students to play about with plot properties. Give them 15 - 20 mins to do this"
   ]
  },
  {
   "cell_type": "code",
   "execution_count": 6,
   "metadata": {
    "collapsed": false,
    "slideshow": {
     "slide_type": "-"
    }
   },
   "outputs": [
    {
     "data": {
      "text/plain": [
       "[<matplotlib.lines.Line2D at 0x109e666d0>]"
      ]
     },
     "execution_count": 6,
     "metadata": {},
     "output_type": "execute_result"
    },
    {
     "data": {
      "image/png": "[encoded data removed]",
      "text/plain": [
       "<matplotlib.figure.Figure at 0x109cd3990>"
      ]
     },
     "metadata": {},
     "output_type": "display_data"
    }
   ],
   "source": [
    "# Ex: set the figure size and add a plot\n",
    "fig=plt.figure(figsize=(4,4)); \n",
    "plt.plot(x,y,'c-')"
   ]
  },
  {
   "cell_type": "code",
   "execution_count": null,
   "metadata": {
    "collapsed": false,
    "slideshow": {
     "slide_type": "-"
    }
   },
   "outputs": [],
   "source": [
    "# Ex: linewidth, and \n",
    "# linestyles: '-', '.-', ':', '--'\n",
    "plt.plot(x,y,'k-',linewidth=2.0)"
   ]
  },
  {
   "cell_type": "markdown",
   "metadata": {
    "slideshow": {
     "slide_type": "slide"
    }
   },
   "source": [
    "<hr style=\"border: solid 1px red; margin-bottom: 2% \">\n",
    "[Matplotlib] &nbsp; Plot customisations &nbsp; II<img src=\"headerlogos.png\"; style=\"float: right; width: 25%; margin-right: -1%; margin-top: 0%; margin-bottom: -1%\">\n",
    "<hr style=\"border: solid 1px red; margin-bottom: -1%; \">\n",
    "\n",
    "Play around with plot markers."
   ]
  },
  {
   "cell_type": "code",
   "execution_count": null,
   "metadata": {
    "collapsed": false,
    "slideshow": {
     "slide_type": "-"
    }
   },
   "outputs": [],
   "source": [
    "# Ex: markers and their properties\n",
    "# unfilled markers: '.',+','x','1' to '4','|'\n",
    "plt.plot(x,y,'x',markersize=10)"
   ]
  },
  {
   "cell_type": "code",
   "execution_count": null,
   "metadata": {
    "collapsed": true,
    "slideshow": {
     "slide_type": "-"
    }
   },
   "outputs": [],
   "source": [
    "# filled markers: 'o', 's','*','d','>','^','v', 'p', 'h'\n",
    "plt.plot(x,y,'8',markerfacecolor='None',markeredgecolor='g',\n",
    "         markersize=10)"
   ]
  },
  {
   "cell_type": "markdown",
   "metadata": {
    "slideshow": {
     "slide_type": "slide"
    }
   },
   "source": [
    "<hr style=\"border: solid 1px red; margin-bottom: 2% \">\n",
    "[Matplotlib] &nbsp; Plot customisations &nbsp; III  <img src=\"headerlogos.png\"; style=\"float: right; width: 25%; margin-right: -1%; margin-top: 0%; margin-bottom: -1%\">\n",
    "<hr style=\"border: solid 1px red; margin-bottom: -1%; \">\n",
    "\n",
    "Set x-axis and y-axis limits"
   ]
  },
  {
   "cell_type": "code",
   "execution_count": null,
   "metadata": {
    "collapsed": false,
    "slideshow": {
     "slide_type": "-"
    }
   },
   "outputs": [],
   "source": [
    "# Ex: x,y, axis limits: \n",
    "plt.xlim((xmax*0.25,xmax*0.75));\n",
    "plt.ylim((np.cos(xmin*0.25),np.cos(xmax*0.75)));\n",
    "plt.plot(x,y,'mo-')"
   ]
  },
  {
   "cell_type": "markdown",
   "metadata": {
    "slideshow": {
     "slide_type": "slide"
    }
   },
   "source": [
    "<hr style=\"border: solid 1px red; margin-bottom: 2% \">\n",
    "[Matplotlib] &nbsp; Plot customisations &nbsp; IV <img src=\"headerlogos.png\"; style=\"float: right; width: 25%; margin-right: -1%; margin-top: 0%; margin-bottom: -1%\">\n",
    "<hr style=\"border: solid 1px red; margin-bottom: -1%; \">\n",
    "\n",
    "Adjust title font properties"
   ]
  },
  {
   "cell_type": "code",
   "execution_count": null,
   "metadata": {
    "collapsed": false,
    "slideshow": {
     "slide_type": "-"
    }
   },
   "outputs": [],
   "source": [
    "# Ex: title placement and font properties\n",
    "plt.plot(x,y,'x')\n",
    "plt.suptitle('A Centered Title', fontsize=20)\n",
    "# loc: center, left, right\n",
    "# verticalalignment: center, top, bottom, baseline\n",
    "plt.title('A Placed Title', loc='left', verticalalignment='top' )"
   ]
  },
  {
   "cell_type": "markdown",
   "metadata": {
    "slideshow": {
     "slide_type": "slide"
    }
   },
   "source": [
    "<hr style=\"border: solid 1px red; margin-bottom: 2% \">\n",
    "[Matplotlib] &nbsp; Plot customisations &nbsp; V  <img src=\"headerlogos.png\"; style=\"float: right; width: 25%; margin-right: -1%; margin-top: 0%; margin-bottom: -1%\">\n",
    "<hr style=\"border: solid 1px red; margin-bottom: -1%; \">\n",
    "\n",
    "Add tickmarks"
   ]
  },
  {
   "cell_type": "code",
   "execution_count": null,
   "metadata": {
    "collapsed": false,
    "slideshow": {
     "slide_type": "-"
    }
   },
   "outputs": [],
   "source": [
    "# Ex: tick marks \n",
    "fig=plt.figure(figsize=(4,3.5)); plt.plot(x,y,'x'); \n",
    "nticks = 5;\n",
    "tickpos = np.linspace(xmin,xmax,nticks);\n",
    "labels = np.repeat(['tick'],nticks);\n",
    "plt.xticks(tickpos, labels, rotation='vertical');"
   ]
  },
  {
   "cell_type": "markdown",
   "metadata": {
    "slideshow": {
     "slide_type": "slide"
    }
   },
   "source": [
    "<hr style=\"border: solid 1px red; margin-bottom: 2% \">\n",
    "[Matplotlib] &nbsp; Plot customisations &nbsp; VI<img src=\"headerlogos.png\"; style=\"float: right; width: 25%; margin-right: -1%; margin-top: 0%; margin-bottom: -1%\">\n",
    "<hr style=\"border: solid 1px red; margin-bottom: -1%; \">\n",
    "\n",
    "Add annotations"
   ]
  },
  {
   "cell_type": "code",
   "execution_count": null,
   "metadata": {
    "collapsed": false,
    "slideshow": {
     "slide_type": "-"
    }
   },
   "outputs": [],
   "source": [
    "# Ex++: arrows and annotations\n",
    "plt.plot(x,y,'x');\n",
    "atext='annotate this'; arrowtip=(1.5,0.5); textloc=(3, 0.75);\n",
    "plt.annotate(atext, xy=arrowtip, xytext=textloc,\n",
    "            arrowprops=dict(facecolor='black', shrink=0.01),)"
   ]
  },
  {
   "cell_type": "markdown",
   "metadata": {
    "slideshow": {
     "slide_type": "slide"
    }
   },
   "source": [
    "<hr style=\"border: solid 1px red; margin-bottom: 2% \">\n",
    "[Matplotlib] &nbsp; Subplots &nbsp;  <img src=\"headerlogos.png\"; style=\"float: right; width: 25%; margin-right: -1%; margin-top: 0%; margin-bottom: -1%\">\n",
    "<hr style=\"border: solid 1px red; margin-bottom: -1%; \">\n",
    "\n",
    "<img src=\"subplotgrid.png\"; style=\"float: right; width: 40%; margin-right: 5%; margin-top: 0%; margin-bottom: 1%\">\n",
    "\n",
    "* There can be multiple plots, or subplots, within a figure \n",
    "\n",
    "\n",
    "* Use <i>subplot(nrows, ncols, plot number)</i> to place plots on a regular grid\n",
    "\n",
    "\n",
    "* The most recently created subplot is the current plot\n"
   ]
  },
  {
   "cell_type": "markdown",
   "metadata": {
    "slideshow": {
     "slide_type": "slide"
    }
   },
   "source": [
    "<hr style=\"border: solid 1px red; margin-bottom: 2% \">\n",
    "[Matplotlib] &nbsp;  Subplots &nbsp; II<img src=\"headerlogos.png\"; style=\"float: right; width: 25%; margin-right: -1%; margin-top: 0%; margin-bottom: -1%\">\n",
    "<hr style=\"border: solid 1px red; margin-bottom: -1%; \">\n",
    "\n",
    "<!--img src=\"img/L03_Matplotlib/subplotgrid.png\"; style=\"float: right; width: 25%; margin-right: 5%; margin-top: 0%; margin-bottom: 1%\"-->\n",
    "\n",
    "\n",
    "* Can move between subplots by creating each subplot with a \"handle\" for each <b>axes<b><br>"
   ]
  },
  {
   "cell_type": "code",
   "execution_count": null,
   "metadata": {
    "collapsed": false,
    "slideshow": {
     "slide_type": "-"
    }
   },
   "outputs": [],
   "source": [
    "(fig, axes) = plt.subplots(nrows=2, ncols=2);\n",
    "axes.size\n",
    "\n",
    "axes[0,0].plot(x,y,'g-');\n",
    "axes[1,1].plot(x,y,'r-');"
   ]
  },
  {
   "cell_type": "markdown",
   "metadata": {
    "slideshow": {
     "slide_type": "slide"
    }
   },
   "source": [
    "<hr style=\"border: solid 1px red; margin-bottom: 2% \">\n",
    "[Matplotlib] &nbsp; subplot2grid (++)  <img src=\"headerlogos.png\"; style=\"float: right; width: 25%; margin-right: -1%; margin-top: 0%; margin-bottom: -1%\">\n",
    "<hr style=\"border: solid 1px red; margin-bottom: -1%; \">\n",
    "\n",
    "<img src=\"subplot2grid.png\"; style=\"float: right; width: 35%; margin-right: 5%; margin-top: 0%; margin-bottom: 1%\">\n",
    "\n",
    "\n",
    "* For more control over subplot layout, use <i>subplot2grid</i>\n",
    "\n",
    "\n",
    "* Subplots can span more than one row or column\n",
    "  \n",
    "  <br>\n",
    "  <br>"
   ]
  },
  {
   "cell_type": "code",
   "execution_count": null,
   "metadata": {
    "collapsed": false,
    "slideshow": {
     "slide_type": "-"
    }
   },
   "outputs": [],
   "source": [
    "# Ex++: subplot2grid(shape, loc, rowspan=1, colspan=1)\n",
    "fig = plt.figure()\n",
    "ax1 = plt.subplot2grid((3, 3), (0, 0)); ax1.plot(x,y,'r-');\n",
    "ax2 = plt.subplot2grid((3, 3), (0, 1), colspan=2); ax2.plot(x,y,'g-');\n",
    "ax3 = plt.subplot2grid((3, 3), (1, 0), colspan=2, rowspan=2); ax3.plot(x,y,'b-');\n",
    "ax4 = plt.subplot2grid((3, 3), (1, 2), rowspan=2); ax4.plot(x,y,'c-');"
   ]
  },
  {
   "cell_type": "markdown",
   "metadata": {
    "slideshow": {
     "slide_type": "slide"
    }
   },
   "source": [
    "<hr style=\"border: solid 1px red; margin-bottom: 2% \">\n",
    "[Matplotlib] &nbsp; Customise some subplots  <img src=\"headerlogos.png\"; style=\"float: right; width: 25%; margin-right: -1%; margin-top: 0%; margin-bottom: -1%\">\n",
    "<hr style=\"border: solid 1px red; margin-bottom: -1%; \">\n",
    "\n",
    "* Go back to the Matplotlib exercise and <b>create multiple customised plots </b>(pages 8 - 11) "
   ]
  },
  {
   "cell_type": "markdown",
   "metadata": {
    "slideshow": {
     "slide_type": "notes"
    }
   },
   "source": [
    "Note\n",
    "1. Students to create a customised plot with multiple plots, give them 15 - 20 mins to do this"
   ]
  },
  {
   "cell_type": "markdown",
   "metadata": {
    "slideshow": {
     "slide_type": "slide"
    }
   },
   "source": [
    "<hr style=\"border: solid 1px red; margin-bottom: 2% \">\n",
    "[Matplotlib] &nbsp; Other type of plots <img src=\"headerlogos.png\"; style=\"float: right; width: 25%; margin-right: -1%; margin-top: 0%; margin-bottom: -1%\">\n",
    "<hr style=\"border: solid 1px red; margin-bottom: -1%; \">\n",
    "\n",
    "http://matplotlib.org/gallery.html\n",
    "\n",
    "<div align=\"left\">\n",
    "<img src=\"otherplots01.png\"; style=\"float: left; width: 25%;  margin-top: 5%; margin-bottom: 1%\"><br>\n",
    "<img src=\"otherplots03.png\"; style=\"float: left; width: 25%; margin-top: 5%; margin-bottom: 1%\"><br>\n",
    "<img src=\"otherplots02.png\"; style=\"float: left; width: 25%;  margin-top: 5%; margin-bottom: 1%; margin-right: 10%\"><br>\n",
    "</div>\n",
    "<br>\n",
    "<div align=\"left\">\n",
    "<img src=\"otherplots05.png\"; style=\"float: left; width: 20%;  margin-top: 3%; margin-bottom: 1%\"><br>\n",
    "<img src=\"datasofar.png\"; style=\"float: left; width: 25%;  margin-top: 3%; margin-bottom: 1%\">\n",
    "<img src=\"otherplots04.png\"; style=\"float: left; width: 25%;  margin-top: 3%; margin-bottom: 1%\">\n",
    "</div>\n",
    "\n"
   ]
  },
  {
   "cell_type": "markdown",
   "metadata": {
    "slideshow": {
     "slide_type": "notes"
    }
   },
   "source": [
    "Notes\n",
    "* Only just skimmed the surface of what is possible\n",
    "* the above slide looks terrible but it looks reasonable in a slideshow... promise...\n",
    "* xkcd figure in the bottom right corner... "
   ]
  },
  {
   "cell_type": "markdown",
   "metadata": {
    "slideshow": {
     "slide_type": "slide"
    }
   },
   "source": [
    "<hr style=\"border: solid 1px red; margin-bottom: 2% \">\n",
    "[Matplotlib] &nbsp; Advanced : animation <img src=\"headerlogos.png\"; style=\"float: right; width: 25%; margin-right: -1%; margin-top: 0%; margin-bottom: -1%\">\n",
    "<hr style=\"border: solid 1px red; margin-bottom: -1%; \">\n",
    "\n",
    "Can even create animations <br>\n",
    "(from Nicolas P. Rougier, https://github.com/rougier)"
   ]
  },
  {
   "cell_type": "code",
   "execution_count": null,
   "metadata": {
    "collapsed": true,
    "slideshow": {
     "slide_type": "-"
    }
   },
   "outputs": [],
   "source": [
    "%reset\n",
    "import warnings\n",
    "warnings.filterwarnings('ignore')"
   ]
  },
  {
   "cell_type": "code",
   "execution_count": null,
   "metadata": {
    "collapsed": false,
    "slideshow": {
     "slide_type": "-"
    }
   },
   "outputs": [],
   "source": [
    "#from matplotlib import use\n",
    "## animation doesn't work with macosx backend!\n",
    "#use(\"nbagg\")\n",
    "#import earthquakes;"
   ]
  },
  {
   "cell_type": "markdown",
   "metadata": {
    "slideshow": {
     "slide_type": "-"
    }
   },
   "source": [
    "&nbsp;"
   ]
  },
  {
   "cell_type": "markdown",
   "metadata": {
    "slideshow": {
     "slide_type": "-"
    }
   },
   "source": [
    "&nbsp;"
   ]
  },
  {
   "cell_type": "markdown",
   "metadata": {
    "slideshow": {
     "slide_type": "slide"
    }
   },
   "source": [
    "<hr style=\"border: solid 1px red; margin-bottom: 2% \">\n",
    "[Matplotlib] &nbsp; Images for publication &nbsp; I <img src=\"headerlogos.png\"; style=\"float: right; width: 25%; margin-right: -1%; margin-top: 0%; margin-bottom: -1%\">\n",
    "<hr style=\"border: solid 1px red; margin-bottom: -1%; \">\n",
    "\n",
    "* Matplotlib uses <b><i>matplotlibrc</i></b> configuration files to customize and set defaults for all kinds of properties (<i>rc settings</i>,  <i>rc parameters</i>)\n",
    "\n",
    "\n",
    "* Creating a custom <b><i>matplotlibrc</i></b> file in your local directory will override the default <b><i>matplotlibrc</i></b> file, and limit changes to that directory.\n",
    "\n",
    "<br>\n",
    "From Damon McDougall: http://bit.ly/1jIuuU0"
   ]
  },
  {
   "cell_type": "markdown",
   "metadata": {
    "slideshow": {
     "slide_type": "slide"
    }
   },
   "source": [
    "<hr style=\"border: solid 1px red; margin-bottom: 2% \">\n",
    "[Matplotlib] &nbsp; Images for publication  &nbsp; II<img src=\"headerlogos.png\"; style=\"float: right; width: 25%; margin-right: -1%; margin-top: 0%; margin-bottom: -1%\">\n",
    "<hr style=\"border: solid 1px red; margin-bottom: -1%; \">\n",
    "\n",
    "* You will most likely want different settings for each journal\n",
    "\n",
    "\n",
    "* useful to keep a different <b><i>matplotlibrc</i></b> file for each journal"
   ]
  },
  {
   "cell_type": "markdown",
   "metadata": {
    "slideshow": {
     "slide_type": "slide"
    }
   },
   "source": [
    "<hr style=\"border: solid 1px red; margin-bottom: 2% \">\n",
    "[Matplotlib] &nbsp; <i>matplotlibrc</i> : import rc file<img src=\"headerlogos.png\"; style=\"float: right; width: 25%; margin-right: -1%; margin-top: 0%; margin-bottom: -1%\">\n",
    "<hr style=\"border: solid 1px red; margin-bottom: -1%; \">\n",
    "\n",
    "* import a particular settings file with:\n",
    "\n",
    "  &nbsp; &nbsp; from matplotlib import rc_file<br>\n",
    "  &nbsp; &nbsp; rc_file('/path/to/my/matplotlibrc')\n"
   ]
  },
  {
   "cell_type": "markdown",
   "metadata": {
    "slideshow": {
     "slide_type": "slide"
    }
   },
   "source": [
    "<hr style=\"border: solid 1px red; margin-bottom: 2% \">\n",
    "[Matplotlib] &nbsp; <i>matplotlibrc</i> : settings &nbsp; I<img src=\"headerlogos.png\"; style=\"float: right; width: 25%; margin-right: -1%; margin-top: 0%; margin-bottom: -1%\">\n",
    "<hr style=\"border: solid 1px red; margin-bottom: -1%; \">\n",
    "\n",
    "axes.labelsize  : 9.0  # fontsize of the x any y labels<br>\n",
    "xtick.labelsize : 9.0  # fontsize of the tick labels<br>\n",
    "ytick.labelsize : 9.0  # fontsize of the tick labels <br>\n",
    "legend.fontsize : 9.0  # fontsize in legend<br>\n",
    "font.family     : serif<br>\n",
    "font.serif      : Computer Modern Roman<br>\n",
    "Marker size     : lines.markersize : 3<br>\n",
    "text.usetex : True \n",
    "\n",
    "* Last line means use TeX to format all text (only available with Agg, PS, PDF backends)"
   ]
  },
  {
   "cell_type": "markdown",
   "metadata": {
    "slideshow": {
     "slide_type": "notes"
    }
   },
   "source": [
    "Notes\n",
    "* set font properties etc."
   ]
  },
  {
   "cell_type": "markdown",
   "metadata": {
    "slideshow": {
     "slide_type": "slide"
    }
   },
   "source": [
    "<hr style=\"border: solid 1px red; margin-bottom: 2% \">\n",
    "[Matplotlib] &nbsp; <i>matplotlibrc</i> : settings &nbsp; II  <img src=\"headerlogos.png\"; style=\"float: right; width: 25%; margin-right: -1%; margin-top: 0%; margin-bottom: -1%\">\n",
    "<hr style=\"border: solid 1px red; margin-bottom: -1%; \">\n",
    "\n",
    "Here are some settings you can use to create a nice figure ratio\n",
    "\n",
    "WIDTH   = 500.0   # Figure width in pt (usually from LaTeX)<br>\n",
    "FACTOR  = 0.45    # Fraction of the width you'd like the figure to use<br> \n",
    "widthpt = WIDTH * FACTOR <br>\n",
    "inperpt = 1.0 / 72.27 <br>\n",
    "\\# use the Golden ratio because it looks good <br>\n",
    "golden_ratio  = (np.sqrt(5) - 1.0) / 2.0 <br> \n",
    "widthin  = widthpt * inperpt <br>\n",
    "heightin = widthin * golden_ratio <br>\n",
    "figdims    = [widthin, heightin] # Dimensions as list <br>\n",
    "fig = plt.figure(figsize=figdims)"
   ]
  },
  {
   "cell_type": "markdown",
   "metadata": {
    "collapsed": true,
    "slideshow": {
     "slide_type": "notes"
    }
   },
   "source": [
    "Notes\n",
    "* students will see what 'nice' means when they do the exercise"
   ]
  },
  {
   "cell_type": "markdown",
   "metadata": {
    "slideshow": {
     "slide_type": "slide"
    }
   },
   "source": [
    "<hr style=\"border: solid 1px red; margin-bottom: 2% \">\n",
    "[Matplotlib] &nbsp; Include images in $\\LaTeX$  <img src=\"headerlogos.png\"; style=\"float: right; width: 25%; margin-right: -1%; margin-top: 0%; margin-bottom: -1%\">\n",
    "<hr style=\"border: solid 1px red; margin-bottom: -1%; \">\n",
    "\n",
    "When you include the figure in the LaTeX source you should specify the scale factor as the width: \n",
    "\n",
    "$\\begin{figure}\n",
    "  \\includegraphics[width=0.45\\textwidth]{figure.pdf}\n",
    "\\end{figure}$\n",
    "\n",
    "\n",
    "Complete the Matplotlib exercise and <b>create a publication standard image</b> (pages 12 - 13)"
   ]
  },
  {
   "cell_type": "markdown",
   "metadata": {
    "slideshow": {
     "slide_type": "notes"
    }
   },
   "source": [
    "Note\n",
    "1. Students to create publication image. Give students 15 - 20 mins to do this"
   ]
  },
  {
   "cell_type": "markdown",
   "metadata": {
    "collapsed": true,
    "slideshow": {
     "slide_type": "notes"
    }
   },
   "source": [
    "Notes\n",
    "* some notes"
   ]
  },
  {
   "cell_type": "markdown",
   "metadata": {
    "slideshow": {
     "slide_type": "slide"
    }
   },
   "source": [
    "<hr style=\"border: solid 1px red; margin-bottom: 2% \">\n",
    "[Matplotlib] &nbsp; Summary &nbsp; I<img src=\"headerlogos.png\"; style=\"float: right; width: 25%; margin-right: -1%; margin-top: 0%; margin-bottom: -1%\">\n",
    "<hr style=\"border: solid 1px red; margin-bottom: -1%; \">\n",
    "\n",
    "* Simple, interactive plotting\n",
    "\n",
    "  * integration with NumPy allows you to easily read data\n",
    "  \n",
    "* Plotting syntax is simple and concise\n",
    "\n",
    "\n",
    "* Complex plotting types also available\n",
    "\n",
    " * Can start from code for simple plots\n",
    " \n",
    " * Many examples available online\n"
   ]
  },
  {
   "cell_type": "markdown",
   "metadata": {
    "slideshow": {
     "slide_type": "slide"
    }
   },
   "source": [
    "<hr style=\"border: solid 1px red; margin-bottom: 2% \">\n",
    "[Matplotlib] &nbsp; Summary &nbsp; II<img src=\"headerlogos.png\"; style=\"float: right; width: 25%; margin-right: -1%; margin-top: 0%; margin-bottom: -1%\">\n",
    "<hr style=\"border: solid 1px red; margin-bottom: -1%; \">\n",
    "\n",
    "\n",
    "\n",
    "* Producing publication-ready images is relatively simple\n",
    "\n",
    " * Easily customised for different scenarios\n",
    "\n",
    "* The more you use matplotlib, the more you get out of it!\n",
    "\n",
    "\n",
    "* Other packages\n",
    " \n",
    " * Bokeh : interactive visualisation library.\n"
   ]
  }
 ],
 "metadata": {
  "celltoolbar": "Slideshow",
  "kernelspec": {
   "display_name": "Python 2",
   "language": "python",
   "name": "python2"
  },
  "language_info": {
   "codemirror_mode": {
    "name": "ipython",
    "version": 2
   },
   "file_extension": ".py",
   "mimetype": "text/x-python",
   "name": "python",
   "nbconvert_exporter": "python",
   "pygments_lexer": "ipython2",
   "version": "2.7.10"
  }
 },
 "nbformat": 4,
 "nbformat_minor": 0
}
