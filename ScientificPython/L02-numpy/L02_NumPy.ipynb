{
 "cells": [
  {
   "cell_type": "code",
   "execution_count": null,
   "metadata": {
    "collapsed": true,
    "slideshow": {
     "slide_type": "skip"
    }
   },
   "outputs": [],
   "source": [
    "# suppress deprecated warnings\n",
    "import warnings\n",
    "warnings.filterwarnings('ignore')"
   ]
  },
  {
   "cell_type": "markdown",
   "metadata": {
    "slideshow": {
     "slide_type": "slide"
    }
   },
   "source": [
    "\n",
    "<hr style=\"border: solid 1px red; margin-bottom: -1% \">\n",
    "# NumPy <img src=\"headerlogos.png\"; style=\"float: right; width: 25%; margin-right: -1%; background-color:transparent;\"> \n",
    "<hr style=\"border: solid 1px red; margin-top: 1.5% \">\n",
    "\n",
    "Kevin Stratford  &nbsp; &nbsp; &nbsp; &nbsp; &nbsp; &nbsp; &nbsp; &nbsp; &nbsp; &nbsp;<a style=\"color: blue\">kevin@epcc.ed.ac.uk</a><br>\n",
    "Emmanouil Farsarakis &nbsp; &nbsp; <a style=\"color: blue\">farsarakis@epcc.ed.ac.uk</a><br><br>\n",
    "\n",
    "\n",
    "Other course authors: <br>\n",
    "Neelofer Banglawala <br>\n",
    "Andy Turner <br>\n",
    "Arno Proeme <br>\n",
    "\n"
   ]
  },
  {
   "cell_type": "markdown",
   "metadata": {
    "slideshow": {
     "slide_type": "slide"
    }
   },
   "source": [
    "<hr style=\"border: solid 1px red; margin-bottom: 2% \">\n",
    "&nbsp;<img src=\"headerlogos.png\"; style=\"float: right; width: 25%; margin-right: -1%; margin-top: 0%; margin-bottom: -1%\">\n",
    "<hr style=\"border: solid 1px red; margin-bottom: -1%; \">\n",
    "\n",
    "\n",
    "\n",
    "<img src=\"reusematerial.png\"; style=\"float: center; width: 90\"; >"
   ]
  },
  {
   "cell_type": "markdown",
   "metadata": {
    "slideshow": {
     "slide_type": "slide"
    }
   },
   "source": [
    "\n",
    "<hr style=\"border: solid 1px red; margin-bottom: 2% \">\n",
    "&nbsp;<img src=\"headerlogos.png\"; style=\"float: right; width: 25%; margin-right: -1%; margin-top: 0%; margin-bottom: -1%\">\n",
    "<hr style=\"border: solid 1px red; margin-bottom: 1%; \">\n",
    "\n",
    "\n",
    "<div align=\"center\" style=\"float: center; color: blue;\">\n",
    "www.archer.ac.uk <br><br>\n",
    "support@archer.ac.uk\n",
    "</div>\n",
    "\n",
    "<div>\n",
    "<img src=\"epsrclogo.png\"; style=\"float: left; width: 35%; margin-left: 20%; margin-top: 2% \">\n",
    "<img src=\"nerclogo.png\"; style=\"float: left; width: 25%; margin-left: 5%\">\n",
    "</div>\n",
    "<br><br>\n",
    "<br><br>\n",
    "<div>\n",
    "<img src=\"craylogo.png\"; style=\"float: left; width: 30%; margin-left: 10%; margin-top: 6% \">\n",
    "<img src=\"epcclogo.png\"; style=\"float: left; width: 30%; margin-left: 5%; margin-top: 6% \" >\n",
    "<img src=\"ediunilogo.png\"; style=\"float: left; width: 20%; margin-left: 5%; margin-top: 2% \" > \n",
    "</div>\n",
    "<br>\n",
    "<br>\n",
    "\n",
    "\n"
   ]
  },
  {
   "cell_type": "markdown",
   "metadata": {
    "slideshow": {
     "slide_type": "slide"
    }
   },
   "source": [
    "<hr style=\"border: solid 1px red; margin-bottom: 2% \">\n",
    "[NumPy] &nbsp; Introducing NumPy <img src=\"headerlogos.png\"; style=\"float: right; width: 25%; margin-right: -1%; margin-top: 0%; margin-bottom: -1%\">\n",
    "<hr style=\"border: solid 1px red; margin-bottom: -1%; \">\n",
    "\n",
    "* Core Python provides lists\n",
    "\n",
    " * Lists are slow for many numerical algorithms\n",
    "\n",
    "* NumPy provides fast precompiled functions for numerical routines:\n",
    "\n",
    "  * multidimensional arrays : faster than lists\n",
    "  * matrices and linear algebra operations\n",
    "  * random number generation\n",
    "  * Fourier transforms and much more... \n",
    "\n",
    "* https://www.numpy.org/"
   ]
  },
  {
   "cell_type": "markdown",
   "metadata": {
    "slideshow": {
     "slide_type": "slide"
    }
   },
   "source": [
    "<hr style=\"border: solid 1px red; margin-bottom: 2% \">\n",
    "[NumPy] &nbsp; Calculating $\\pi$  <img src=\"headerlogos.png\"; style=\"float: right; width: 25%; margin-right: -1%; margin-top: 0%; margin-bottom: -1%\">\n",
    "<hr style=\"border: solid 1px red; margin-bottom: -1%; \">\n",
    "\n",
    "\n",
    "<img src=\"montecarlo.png\"; style=\"float: right; width: 40%; margin-right: 2%; margin-top: 0%; margin-bottom: -1%\">\n",
    "\n",
    "If we know the area $A$ of square length $R$, and the area $Q$ of the quarter circle with radius $R$, we can calculate $\\pi$ : $ Q/A = \\pi R^2/ 4 R^2  $, so \n",
    "\n",
    "$ \\pi =  4\\,Q/A $\n",
    "\n"
   ]
  },
  {
   "cell_type": "markdown",
   "metadata": {
    "slideshow": {
     "slide_type": "slide"
    }
   },
   "source": [
    "<hr style=\"border: solid 1px red; margin-bottom: 2% \">\n",
    "[NumPy] &nbsp; Calculating $\\pi$ : monte carlo method <img src=\"headerlogos.png\"; style=\"float: right; width: 25%; margin-right: -1%; margin-top: 0%; margin-bottom: -1%\">\n",
    "<hr style=\"border: solid 1px red; margin-bottom: -1%; \">\n",
    "\n",
    "We can use the <i>monte carlo</i> method to determine areas $A$ and $Q$ and approximate $\\pi$. For $N$ iterations\n",
    "\n",
    "1. randomly generate the coordinates $(x,\\,y)$, where $0 \\leq \\,x,\\, y <R$ <br>\n",
    "2. Calculate distance $ r = x^2 + y^2 $. Check if $(x,\\,y)$ lies within radius of circle<br>\n",
    "3. Check if $ r $ lies within radius $R$ of circle i.e. if $r \\leq R $ <br>\n",
    "4. if yes, add to count for approximating area of circle<br>\n",
    "\n",
    "The numerical approximation of $\\pi$ is then : 4 * (count/$N$)"
   ]
  },
  {
   "cell_type": "markdown",
   "metadata": {
    "slideshow": {
     "slide_type": "slide"
    }
   },
   "source": [
    "<hr style=\"border: solid 1px red; margin-bottom: 2% \">\n",
    "[NumPy] &nbsp; Calculating $\\pi$ : a solution <img src=\"headerlogos.png\"; style=\"float: right; width: 25%; margin-right: -1%; margin-top: 0%; margin-bottom: -1%\">\n",
    "<hr style=\"border: solid 1px red; margin-bottom: -1%; \">"
   ]
  },
  {
   "cell_type": "code",
   "execution_count": null,
   "metadata": {
    "collapsed": false,
    "slideshow": {
     "slide_type": "-"
    }
   },
   "outputs": [],
   "source": [
    "# calculate pi\n",
    "import numpy as np\n",
    "\n",
    "# N : number of iterations\n",
    "def calc_pi(N):\n",
    "    x = np.random.ranf(N);\n",
    "    y = np.random.ranf(N);\n",
    "    r = np.sqrt(x*x + y*y);\n",
    "    c=r[ r <= 1.0 ]\n",
    "    return 4*float((c.size))/float(N)\n",
    "\n",
    "# time the results\n",
    "pts = 6; N = np.logspace(1,8,num=pts);\n",
    "result = np.zeros(pts); count = 0;\n",
    "for n in N:\n",
    "    result = %timeit -o -n1 calc_pi(n) \n",
    "    result[count] = result.best\n",
    "    count += 1\n",
    "    \n",
    "# and save results to file   \n",
    "np.savetxt('calcpi_timings.txt', np.c_[N,results],\n",
    "           fmt='%1.4e %1.6e');"
   ]
  },
  {
   "cell_type": "markdown",
   "metadata": {
    "slideshow": {
     "slide_type": "slide"
    }
   },
   "source": [
    "<hr style=\"border: solid 1px red; margin-bottom: 2% \">\n",
    "[NumPy] &nbsp; Creating arrays &nbsp; I <img src=\"headerlogos.png\"; style=\"float: right; width: 25%; margin-right: -1%; margin-top: 0%; margin-bottom: -1%\">\n",
    "<hr style=\"border: solid 1px red; margin-bottom: -1%; \">\n",
    "&nbsp;"
   ]
  },
  {
   "cell_type": "code",
   "execution_count": null,
   "metadata": {
    "collapsed": false,
    "slideshow": {
     "slide_type": "-"
    }
   },
   "outputs": [],
   "source": [
    "# import numpy as alias np\n",
    "import numpy as np"
   ]
  },
  {
   "cell_type": "code",
   "execution_count": null,
   "metadata": {
    "collapsed": false,
    "slideshow": {
     "slide_type": "-"
    }
   },
   "outputs": [],
   "source": [
    "# create a 1d array with a list\n",
    "a = np.array( [-1,0,1] ); a"
   ]
  },
  {
   "cell_type": "markdown",
   "metadata": {
    "slideshow": {
     "slide_type": "-"
    }
   },
   "source": [
    "&nbsp;"
   ]
  },
  {
   "cell_type": "markdown",
   "metadata": {
    "slideshow": {
     "slide_type": "subslide"
    }
   },
   "source": [
    "<hr style=\"border: solid 1px red; margin-bottom: 2% \">\n",
    "[NumPy] &nbsp;  Creating arrays &nbsp; II<img src=\"headerlogos.png\"; style=\"float: right; width: 25%; margin-right: -1%; margin-top: 0%; margin-bottom: -1%\">\n",
    "<hr style=\"border: solid 1px red; margin-bottom: -1%; \">\n",
    "&nbsp;"
   ]
  },
  {
   "cell_type": "code",
   "execution_count": null,
   "metadata": {
    "collapsed": false,
    "slideshow": {
     "slide_type": "-"
    }
   },
   "outputs": [],
   "source": [
    "# use arrays to create arrays\n",
    "b = np.array( a ); b"
   ]
  },
  {
   "cell_type": "code",
   "execution_count": null,
   "metadata": {
    "collapsed": false,
    "slideshow": {
     "slide_type": "-"
    }
   },
   "outputs": [],
   "source": [
    "# use numpy functions to create arrays \n",
    "# arange for arrays, range for lists!\n",
    "a = np.arange( -2, 6, 2 ); a"
   ]
  },
  {
   "cell_type": "markdown",
   "metadata": {
    "slideshow": {
     "slide_type": "-"
    }
   },
   "source": [
    "&nbsp;"
   ]
  },
  {
   "cell_type": "markdown",
   "metadata": {
    "slideshow": {
     "slide_type": "subslide"
    }
   },
   "source": [
    "<hr style=\"border: solid 1px red; margin-bottom: 2% \">\n",
    "[NumPy] &nbsp;  Creating arrays &nbsp; III <img src=\"headerlogos.png\"; style=\"float: right; width: 25%; margin-right: -1%; margin-top: 0%; margin-bottom: -1%\">\n",
    "<hr style=\"border: solid 1px red; margin-bottom: -1%; \">\n",
    "&nbsp;"
   ]
  },
  {
   "cell_type": "code",
   "execution_count": null,
   "metadata": {
    "collapsed": false,
    "slideshow": {
     "slide_type": "-"
    }
   },
   "outputs": [],
   "source": [
    "# between start, stop, sample step points\n",
    "a = np.linspace(-10, 10, 5); \n",
    "a;"
   ]
  },
  {
   "cell_type": "code",
   "execution_count": null,
   "metadata": {
    "collapsed": false,
    "slideshow": {
     "slide_type": "-"
    }
   },
   "outputs": [],
   "source": [
    "# Ex: can you guess these functions do?\n",
    "b = np.zeros(3); print b\n",
    "c = np.ones(3); print c"
   ]
  },
  {
   "cell_type": "code",
   "execution_count": null,
   "metadata": {
    "collapsed": false,
    "slideshow": {
     "slide_type": "-"
    }
   },
   "outputs": [],
   "source": [
    "# Ex++: what does this do? Check documentation!\n",
    "h = np.hstack( (a, a, a), 0 ); print h"
   ]
  },
  {
   "cell_type": "markdown",
   "metadata": {
    "slideshow": {
     "slide_type": "-"
    }
   },
   "source": [
    "&nbsp;"
   ]
  },
  {
   "cell_type": "markdown",
   "metadata": {
    "slideshow": {
     "slide_type": "slide"
    }
   },
   "source": [
    "<hr style=\"border: solid 1px red; margin-bottom: 2% \">\n",
    "[NumPy] &nbsp; Array characteristics   <img src=\"headerlogos.png\"; style=\"float: right; width: 25%; margin-right: -1%; margin-top: 0%; margin-bottom: -1%\">\n",
    "<hr style=\"border: solid 1px red; margin-bottom: -1%; \">\n",
    "&nbsp;"
   ]
  },
  {
   "cell_type": "code",
   "execution_count": null,
   "metadata": {
    "collapsed": false,
    "slideshow": {
     "slide_type": "-"
    }
   },
   "outputs": [],
   "source": [
    "# array characteristics such as:\n",
    "print a\n",
    "print a.ndim  # dimensions\n",
    "print a.shape # shape\n",
    "print a.size  # size\n",
    "print a.dtype # data type"
   ]
  },
  {
   "cell_type": "code",
   "execution_count": null,
   "metadata": {
    "collapsed": false,
    "slideshow": {
     "slide_type": "-"
    }
   },
   "outputs": [],
   "source": [
    "# can choose data type\n",
    "a = np.array( [1,2,3], np.int16 ); a.dtype"
   ]
  },
  {
   "cell_type": "markdown",
   "metadata": {
    "slideshow": {
     "slide_type": "-"
    }
   },
   "source": [
    "&nbsp;"
   ]
  },
  {
   "cell_type": "markdown",
   "metadata": {
    "slideshow": {
     "slide_type": "slide"
    }
   },
   "source": [
    "<hr style=\"border: solid 1px red; margin-bottom: 2% \">\n",
    "[NumPy] &nbsp; Multi-dimensional arrays &nbsp; I <img src=\"headerlogos.png\"; style=\"float: right; width: 25%; margin-right: -1%; margin-top: 0%; margin-bottom: -1%\">\n",
    "<hr style=\"border: solid 1px red; margin-bottom: -1%; \">\n",
    "&nbsp;"
   ]
  },
  {
   "cell_type": "code",
   "execution_count": null,
   "metadata": {
    "collapsed": false,
    "slideshow": {
     "slide_type": "-"
    }
   },
   "outputs": [],
   "source": [
    "# multi-dimensional arrays e.g. 2d array or matrix \n",
    "# e.g. list of lists\n",
    "mat = np.array( [[1,2,3], [4,5,6]]);\n",
    "print mat; print mat.size; mat.shape"
   ]
  },
  {
   "cell_type": "code",
   "execution_count": null,
   "metadata": {
    "collapsed": false,
    "slideshow": {
     "slide_type": "-"
    }
   },
   "outputs": [],
   "source": [
    "# join arrays along first axis (0)\n",
    "d = np.r_[np.array([1,2,3]), 0, 0, [4,5,6]];\n",
    "print d; d.shape"
   ]
  },
  {
   "cell_type": "markdown",
   "metadata": {
    "collapsed": false,
    "slideshow": {
     "slide_type": "-"
    }
   },
   "source": [
    "&nbsp;"
   ]
  },
  {
   "cell_type": "markdown",
   "metadata": {
    "slideshow": {
     "slide_type": "subslide"
    }
   },
   "source": [
    "<hr style=\"border: solid 1px red; margin-bottom: 2% \">\n",
    "[NumPy] &nbsp; Multi-dimensional arrays &nbsp; II <img src=\"headerlogos.png\"; style=\"float: right; width: 25%; margin-right: -1%; margin-top: 0%; margin-bottom: -1%\">\n",
    "<hr style=\"border: solid 1px red; margin-bottom: -1%; \">\n",
    "&nbsp;"
   ]
  },
  {
   "cell_type": "code",
   "execution_count": null,
   "metadata": {
    "collapsed": false
   },
   "outputs": [],
   "source": [
    "# join arrays along second axis (1)\n",
    "d = np.c_[np.array([1,2,3]), [4,5,6]];\n",
    "print d; d.shape"
   ]
  },
  {
   "cell_type": "code",
   "execution_count": null,
   "metadata": {
    "collapsed": false,
    "slideshow": {
     "slide_type": "-"
    }
   },
   "outputs": [],
   "source": [
    "# Ex: use r_, c_ with nd (n>1) arrays"
   ]
  },
  {
   "cell_type": "code",
   "execution_count": null,
   "metadata": {
    "collapsed": false,
    "slideshow": {
     "slide_type": "-"
    }
   },
   "outputs": [],
   "source": [
    "# Ex: can you guess the shape of these arrays?\n",
    "h = np.array( [1,2,3,4,5,6] ); \n",
    "i = np.array( [[1,1],[2,2],[3,3],[4,4],[5,5],[6,6]] ); \n",
    "j = np.array( [[[1],[2],[3],[4],[5],[6]]] ); \n",
    "k = np.array( [[[[1],[2],[3],[4],[5],[6]]]] );"
   ]
  },
  {
   "cell_type": "markdown",
   "metadata": {
    "slideshow": {
     "slide_type": "slide"
    }
   },
   "source": [
    "<hr style=\"border: solid 1px red; margin-bottom: 2% \">\n",
    "[NumPy] &nbsp; Reshaping arrays &nbsp; I<img src=\"headerlogos.png\"; style=\"float: right; width: 25%; margin-right: -1%; margin-top: 0%; margin-bottom: -1%\">\n",
    "<hr style=\"border: solid 1px red; margin-bottom: -1%; \">\n",
    "&nbsp;"
   ]
  },
  {
   "cell_type": "code",
   "execution_count": null,
   "metadata": {
    "collapsed": false,
    "slideshow": {
     "slide_type": "-"
    }
   },
   "outputs": [],
   "source": [
    "# reshape 1d arrays into nd arrays original matrix unaffected\n",
    "mat = np.arange(6); print mat\n",
    "print mat.reshape( (3, 2) )\n",
    "print mat; print mat.size;\n",
    "print mat.shape"
   ]
  },
  {
   "cell_type": "code",
   "execution_count": null,
   "metadata": {
    "collapsed": false,
    "slideshow": {
     "slide_type": "-"
    }
   },
   "outputs": [],
   "source": [
    "# can also use the shape, this modifies the original array\n",
    "a = np.zeros(10); print a\n",
    "a.shape = (2,5)\n",
    "print a; print a.shape;"
   ]
  },
  {
   "cell_type": "markdown",
   "metadata": {
    "slideshow": {
     "slide_type": "-"
    }
   },
   "source": [
    "&nbsp;"
   ]
  },
  {
   "cell_type": "markdown",
   "metadata": {
    "slideshow": {
     "slide_type": "subslide"
    }
   },
   "source": [
    "<hr style=\"border: solid 1px red; margin-bottom: 2% \">\n",
    "[NumPy] &nbsp; Reshaping arrays &nbsp; II <img src=\"headerlogos.png\"; style=\"float: right; width: 25%; margin-right: -1%; margin-top: 0%; margin-bottom: -1%\">\n",
    "<hr style=\"border: solid 1px red; margin-bottom: -1%; \">\n",
    "&nbsp;"
   ]
  },
  {
   "cell_type": "code",
   "execution_count": null,
   "metadata": {
    "collapsed": false,
    "slideshow": {
     "slide_type": "-"
    }
   },
   "outputs": [],
   "source": [
    "# Ex: what do flatten() and ravel()? \n",
    "# use online documentation, or '?'\n",
    "mat2 = mat.flatten()\n",
    "mat2 = mat.ravel()"
   ]
  },
  {
   "cell_type": "code",
   "execution_count": null,
   "metadata": {
    "collapsed": false,
    "slideshow": {
     "slide_type": "-"
    }
   },
   "outputs": [],
   "source": [
    "# Ex: split a martix? Change the cuts and axis values\n",
    "# need help?: np.split?\n",
    "cuts=2;\n",
    "np.split(mat, cuts, axis=0)"
   ]
  },
  {
   "cell_type": "markdown",
   "metadata": {
    "slideshow": {
     "slide_type": "-"
    }
   },
   "source": [
    "&nbsp;"
   ]
  },
  {
   "cell_type": "markdown",
   "metadata": {
    "slideshow": {
     "slide_type": "subslide"
    }
   },
   "source": [
    "<hr style=\"border: solid 1px red; margin-bottom: 2% \">\n",
    "[NumPy] &nbsp; Functions for you to explore  <img src=\"headerlogos.png\"; style=\"float: right; width: 25%; margin-right: -1%; margin-top: 0%; margin-bottom: -1%\">\n",
    "<hr style=\"border: solid 1px red; margin-bottom: -1%; \">\n",
    "&nbsp;"
   ]
  },
  {
   "cell_type": "code",
   "execution_count": null,
   "metadata": {
    "collapsed": false,
    "slideshow": {
     "slide_type": "-"
    }
   },
   "outputs": [],
   "source": [
    "# Ex: can you guess what these functions do?\n",
    "# np.copyto(b, a);\n",
    "# v = np.vstack( (arr2d, arr2d) ); print v; v.ndim;\n",
    "# c0 = np.concatenate( (arr2d, arr2d), axis=0); c0;\n",
    "# c1 = np.concatenate(( mat, mat ), axis=1); print \"c1:\", c1;"
   ]
  },
  {
   "cell_type": "code",
   "execution_count": null,
   "metadata": {
    "collapsed": false,
    "slideshow": {
     "slide_type": "-"
    }
   },
   "outputs": [],
   "source": [
    "# Ex++: other functions to explore\n",
    "#\n",
    "# stack(arrays[, axis])\n",
    "# tile(A, reps)\n",
    "# repeat(a, repeats[, axis])\n",
    "# unique(ar[, return_index, return_inverse, ...])\n",
    "# trim_zeros(filt[, trim]), fill(scalar)\n",
    "# xv, yv = meshgrid(x,y)"
   ]
  },
  {
   "cell_type": "markdown",
   "metadata": {
    "slideshow": {
     "slide_type": "slide"
    }
   },
   "source": [
    "<hr style=\"border: solid 1px red; margin-bottom: 2% \">\n",
    "[NumPy] &nbsp; Accessing arrays &nbsp; I <img src=\"headerlogos.png\"; style=\"float: right; width: 25%; margin-right: -1%; margin-top: 0%; margin-bottom: -1%\">\n",
    "<hr style=\"border: solid 1px red; margin-bottom: -1%; \">\n",
    "&nbsp;"
   ]
  },
  {
   "cell_type": "code",
   "execution_count": null,
   "metadata": {
    "collapsed": false,
    "slideshow": {
     "slide_type": "-"
    }
   },
   "outputs": [],
   "source": [
    "# basic indexing and slicing we know from lists\n",
    "a = np.arange(8); print a\n",
    "a[3]"
   ]
  },
  {
   "cell_type": "code",
   "execution_count": null,
   "metadata": {
    "collapsed": true,
    "slideshow": {
     "slide_type": "-"
    }
   },
   "outputs": [],
   "source": [
    "# a[start:stop:step] --> [start, stop every step)\n",
    "print a[0:7:2]\n",
    "print a[0::2]"
   ]
  },
  {
   "cell_type": "code",
   "execution_count": null,
   "metadata": {
    "collapsed": false,
    "slideshow": {
     "slide_type": "-"
    }
   },
   "outputs": [],
   "source": [
    "# negative indices are valid! \n",
    "# last element index is -1\n",
    "print a[2:-3:2]"
   ]
  },
  {
   "cell_type": "markdown",
   "metadata": {
    "slideshow": {
     "slide_type": "-"
    }
   },
   "source": [
    "&nbsp;"
   ]
  },
  {
   "cell_type": "markdown",
   "metadata": {
    "slideshow": {
     "slide_type": "subslide"
    }
   },
   "source": [
    "<hr style=\"border: solid 1px red; margin-bottom: 2% \">\n",
    "[NumPy] &nbsp; Accessing arrays &nbsp; II <img src=\"headerlogos.png\"; style=\"float: right; width: 25%; margin-right: -1%; margin-top: 0%; margin-bottom: -1%\">\n",
    "<hr style=\"border: solid 1px red; margin-bottom: -1%; \">\n",
    "&nbsp;"
   ]
  },
  {
   "cell_type": "code",
   "execution_count": null,
   "metadata": {
    "collapsed": false,
    "slideshow": {
     "slide_type": "-"
    }
   },
   "outputs": [],
   "source": [
    "# basic indexing of a 2d array : take care of each dimension\n",
    "nd = np.arange(12).reshape((4,3)); print nd;\n",
    "print nd[2,2];\n",
    "print nd[2][2];"
   ]
  },
  {
   "cell_type": "code",
   "execution_count": null,
   "metadata": {
    "collapsed": false,
    "slideshow": {
     "slide_type": "-"
    }
   },
   "outputs": [],
   "source": [
    "# get corner elements 0,2,9,11\n",
    "print nd[0:4:3, 0:3:2]"
   ]
  },
  {
   "cell_type": "code",
   "execution_count": null,
   "metadata": {
    "collapsed": false,
    "slideshow": {
     "slide_type": "-"
    }
   },
   "outputs": [],
   "source": [
    "# Ex: get elements 7,8,10,11 that make up the bottom right corner\n",
    "nd = np.arange(12).reshape((4,3)); \n",
    "print nd; nd[2:4, 1:3]"
   ]
  },
  {
   "cell_type": "markdown",
   "metadata": {
    "slideshow": {
     "slide_type": "-"
    }
   },
   "source": [
    "&nbsp;"
   ]
  },
  {
   "cell_type": "markdown",
   "metadata": {
    "slideshow": {
     "slide_type": "subslide"
    }
   },
   "source": [
    "<hr style=\"border: solid 1px red; margin-bottom: 2% \">\n",
    "[NumPy] &nbsp; Slices and copies &nbsp; I  <img src=\"headerlogos.png\"; style=\"float: right; width: 25%; margin-right: -1%; margin-top: 0%; margin-bottom: -1%\">\n",
    "<hr style=\"border: solid 1px red; margin-bottom: -1%; \">\n",
    "&nbsp;"
   ]
  },
  {
   "cell_type": "code",
   "execution_count": null,
   "metadata": {
    "collapsed": false,
    "slideshow": {
     "slide_type": "-"
    }
   },
   "outputs": [],
   "source": [
    "# slices are views (like references) \n",
    "# on an array, can change elements\n",
    "nd[2:4, 1:3] = -1; nd"
   ]
  },
  {
   "cell_type": "code",
   "execution_count": null,
   "metadata": {
    "collapsed": false,
    "slideshow": {
     "slide_type": "-"
    }
   },
   "outputs": [],
   "source": [
    "# assign slice to a variable to prevent this\n",
    "s = nd[2:4, 1:3]; print nd; \n",
    "s = -1; nd"
   ]
  },
  {
   "cell_type": "markdown",
   "metadata": {
    "slideshow": {
     "slide_type": "-"
    }
   },
   "source": [
    "&nbsp;"
   ]
  },
  {
   "cell_type": "markdown",
   "metadata": {
    "slideshow": {
     "slide_type": "subslide"
    }
   },
   "source": [
    "<hr style=\"border: solid 1px red; margin-bottom: 2% \">\n",
    "[NumPy] &nbsp;  Slices and copies &nbsp; II <img src=\"headerlogos.png\"; style=\"float: right; width: 25%; margin-right: -1%; margin-top: 0%; margin-bottom: -1%\">\n",
    "<hr style=\"border: solid 1px red; margin-bottom: -1%; \">\n",
    "&nbsp;"
   ]
  },
  {
   "cell_type": "code",
   "execution_count": null,
   "metadata": {
    "collapsed": true,
    "slideshow": {
     "slide_type": "-"
    }
   },
   "outputs": [],
   "source": [
    "# Care - simple assignment between arrays\n",
    "# creates references!\n",
    "nd = np.arange(12).reshape((4,3))\n",
    "md = nd\n",
    "md[3] = 1000\n",
    "print nd"
   ]
  },
  {
   "cell_type": "code",
   "execution_count": null,
   "metadata": {
    "collapsed": true,
    "slideshow": {
     "slide_type": "-"
    }
   },
   "outputs": [],
   "source": [
    "# avoid this by creating distinct copies\n",
    "# using copy()\n",
    "nd = np.arange(12).reshape((4,3))\n",
    "md = nd.copy()\n",
    "md[3] = 999\n",
    "print nd"
   ]
  },
  {
   "cell_type": "markdown",
   "metadata": {
    "slideshow": {
     "slide_type": "-"
    }
   },
   "source": [
    "&nbsp;"
   ]
  },
  {
   "cell_type": "markdown",
   "metadata": {
    "slideshow": {
     "slide_type": "subslide"
    }
   },
   "source": [
    "<hr style=\"border: solid 1px red; margin-bottom: 2% \">\n",
    "[NumPy] &nbsp; Fancy indexing &nbsp; I<img src=\"headerlogos.png\"; style=\"float: right; width: 25%; margin-right: -1%; margin-top: 0%; margin-bottom: -1%\">\n",
    "<hr style=\"border: solid 1px red; margin-bottom: -1%; \">\n",
    "&nbsp;"
   ]
  },
  {
   "cell_type": "code",
   "execution_count": null,
   "metadata": {
    "collapsed": false,
    "slideshow": {
     "slide_type": "-"
    }
   },
   "outputs": [],
   "source": [
    "# advanced or fancy indexing lets you do more\n",
    "p = np.array( [[0,1,2], [3,4,5], [6,7,8], [9,10,11]] ); \n",
    "print p"
   ]
  },
  {
   "cell_type": "code",
   "execution_count": null,
   "metadata": {
    "collapsed": false,
    "slideshow": {
     "slide_type": "-"
    }
   },
   "outputs": [],
   "source": [
    "rows = [0,0,3,3]; cols = [0,2,0,2];\n",
    "print p[rows, cols]"
   ]
  },
  {
   "cell_type": "code",
   "execution_count": null,
   "metadata": {
    "collapsed": false,
    "slideshow": {
     "slide_type": "-"
    }
   },
   "outputs": [],
   "source": [
    "# Ex: what will this slice look like?\n",
    "m = np.array( [[0,-1,4,20,99], [-3,-5,6,7,-10]] );\n",
    "print m[[0,1,1,1], [1,0,1,4]];"
   ]
  },
  {
   "cell_type": "markdown",
   "metadata": {
    "slideshow": {
     "slide_type": "-"
    }
   },
   "source": [
    "&nbsp;"
   ]
  },
  {
   "cell_type": "markdown",
   "metadata": {
    "slideshow": {
     "slide_type": "subslide"
    }
   },
   "source": [
    "<hr style=\"border: solid 1px red; margin-bottom: 2% \">\n",
    "[NumPy] &nbsp; Fancy indexing &nbsp; II <img src=\"headerlogos.png\"; style=\"float: right; width: 25%; margin-right: -1%; margin-top: 0%; margin-bottom: -1%\">\n",
    "<hr style=\"border: solid 1px red; margin-bottom: -1%; \">\n",
    "&nbsp;"
   ]
  },
  {
   "cell_type": "code",
   "execution_count": null,
   "metadata": {
    "collapsed": false,
    "slideshow": {
     "slide_type": "-"
    }
   },
   "outputs": [],
   "source": [
    "# can use conditionals in indexing\n",
    "# m = np.array([[0,-1,4,20,99],[-3,-5,6,7,-10]]);\n",
    "m[ m < 0 ]"
   ]
  },
  {
   "cell_type": "code",
   "execution_count": null,
   "metadata": {
    "collapsed": false,
    "slideshow": {
     "slide_type": "-"
    }
   },
   "outputs": [],
   "source": [
    "# Ex: can you guess what this does? query: np.sum?\n",
    "y = np.array([[0, 1], [1, 1], [2, 2]]);\n",
    "rowsum = y.sum(1);\n",
    "y[rowsum <= 2, :]"
   ]
  },
  {
   "cell_type": "code",
   "execution_count": null,
   "metadata": {
    "collapsed": false,
    "slideshow": {
     "slide_type": "-"
    }
   },
   "outputs": [],
   "source": [
    "# Ex: and this? \n",
    "a = np.arange(10);\n",
    "mask = np.ones(len(a), dtype = bool);\n",
    "mask[[0,2,4]] = False; print mask\n",
    "result = a[mask]; result"
   ]
  },
  {
   "cell_type": "code",
   "execution_count": null,
   "metadata": {
    "collapsed": false,
    "slideshow": {
     "slide_type": "skip"
    }
   },
   "outputs": [],
   "source": [
    "# Ex: r=np.array([[0,1,2],[3,4,5]]); \n",
    "xp = np.array( [[[1,11],[2,22],[3,33]], [[4,44],[5,55],[6,66]]] );\n",
    "xp[slice(1), slice(1,3,None), slice(1)]; xp[:1, 1:3:, :1];\n",
    "print xp[[1,1,1],[1,2,1],[0,1,0]]"
   ]
  },
  {
   "cell_type": "markdown",
   "metadata": {
    "slideshow": {
     "slide_type": "-"
    }
   },
   "source": [
    "&nbsp;"
   ]
  },
  {
   "cell_type": "markdown",
   "metadata": {
    "slideshow": {
     "slide_type": "skip"
    }
   },
   "source": [
    "<hr style=\"border: solid 1px red; margin-bottom: 2% \">\n",
    "[NumPy] &nbsp; Manipulating arrays  <img src=\"headerlogos.png\"; style=\"float: right; width: 25%; margin-right: -1%; margin-top: 0%; margin-bottom: -1%\">\n",
    "<hr style=\"border: solid 1px red; margin-bottom: -1%; \">\n",
    "&nbsp;"
   ]
  },
  {
   "cell_type": "code",
   "execution_count": null,
   "metadata": {
    "collapsed": false,
    "slideshow": {
     "slide_type": "skip"
    }
   },
   "outputs": [],
   "source": [
    "# add an element with insert\n",
    "a = np.arange(6).reshape([2,3]); print a\n",
    "np.append(a, np.ones([2,3]), axis=0)"
   ]
  },
  {
   "cell_type": "code",
   "execution_count": null,
   "metadata": {
    "collapsed": false,
    "slideshow": {
     "slide_type": "skip"
    }
   },
   "outputs": [],
   "source": [
    "# inserting an array of elements\n",
    "np.insert(a, 1, -10, axis=0)"
   ]
  },
  {
   "cell_type": "code",
   "execution_count": null,
   "metadata": {
    "collapsed": true,
    "slideshow": {
     "slide_type": "skip"
    }
   },
   "outputs": [],
   "source": [
    "# can use delete, or a boolean mask, to delete array elements\n",
    "a = np.arange(10)\n",
    "np.delete(a, [0,2,4], axis=0)"
   ]
  },
  {
   "cell_type": "markdown",
   "metadata": {
    "slideshow": {
     "slide_type": "slide"
    }
   },
   "source": [
    "<hr style=\"border: solid 1px red; margin-bottom: 2% \">\n",
    "[NumPy] &nbsp; Vectorization &nbsp; I<img src=\"headerlogos.png\"; style=\"float: right; width: 25%; margin-right: -1%; margin-top: 0%; margin-bottom: -1%\">\n",
    "<hr style=\"border: solid 1px red; margin-bottom: -1%; \">\n",
    "&nbsp;\n",
    "\n"
   ]
  },
  {
   "cell_type": "code",
   "execution_count": null,
   "metadata": {
    "collapsed": true,
    "slideshow": {
     "slide_type": "-"
    }
   },
   "outputs": [],
   "source": [
    "# vectorization allows element-wise operations (no for loop!)\n",
    "a = np.arange(10).reshape([2,5]); b = np.arange(10).reshape([2,5]);"
   ]
  },
  {
   "cell_type": "code",
   "execution_count": null,
   "metadata": {
    "collapsed": false,
    "slideshow": {
     "slide_type": "-"
    }
   },
   "outputs": [],
   "source": [
    "-0.1*a"
   ]
  },
  {
   "cell_type": "code",
   "execution_count": null,
   "metadata": {
    "collapsed": false,
    "slideshow": {
     "slide_type": "-"
    }
   },
   "outputs": [],
   "source": [
    "a*b"
   ]
  },
  {
   "cell_type": "code",
   "execution_count": null,
   "metadata": {
    "collapsed": false,
    "slideshow": {
     "slide_type": "-"
    }
   },
   "outputs": [],
   "source": [
    "a/(b+1)  #.astype(float)"
   ]
  },
  {
   "cell_type": "markdown",
   "metadata": {
    "slideshow": {
     "slide_type": "subslide"
    }
   },
   "source": [
    "<hr style=\"border: solid 1px red; margin-bottom: 2% \">\n",
    "[NumPy] &nbsp; Random number generation <img src=\"headerlogos.png\"; style=\"float: right; width: 25%; margin-right: -1%; margin-top: 0%; margin-bottom: -1%\">\n",
    "<hr style=\"border: solid 1px red; margin-bottom: -1%; \">\n",
    "&nbsp;"
   ]
  },
  {
   "cell_type": "code",
   "execution_count": null,
   "metadata": {
    "collapsed": false,
    "slideshow": {
     "slide_type": "-"
    }
   },
   "outputs": [],
   "source": [
    "# random floats\n",
    "a = np.random.ranf(10); a "
   ]
  },
  {
   "cell_type": "code",
   "execution_count": null,
   "metadata": {
    "collapsed": false,
    "slideshow": {
     "slide_type": "-"
    }
   },
   "outputs": [],
   "source": [
    "# create random 2d int array \n",
    "a = np.random.randint(0, high=5, size=25).reshape(5,5); \n",
    "print a;"
   ]
  },
  {
   "cell_type": "code",
   "execution_count": null,
   "metadata": {
    "collapsed": false,
    "slideshow": {
     "slide_type": "-"
    }
   },
   "outputs": [],
   "source": [
    "# generate sample from normal distribution \n",
    "# (mean=0, standard deviation=1)\n",
    "s = np.random.standard_normal((5,5)); s;"
   ]
  },
  {
   "cell_type": "code",
   "execution_count": null,
   "metadata": {
    "collapsed": true,
    "slideshow": {
     "slide_type": "-"
    }
   },
   "outputs": [],
   "source": [
    "# Ex: what other ways are there to generate random numbers?\n",
    "# What other distributions can you sample? "
   ]
  },
  {
   "cell_type": "markdown",
   "metadata": {
    "slideshow": {
     "slide_type": "slide"
    }
   },
   "source": [
    "<hr style=\"border: solid 1px red; margin-bottom: 2% \">\n",
    "[NumPy] &nbsp; File IO <img src=\"headerlogos.png\"; style=\"float: right; width: 25%; margin-right: -1%; margin-top: 0%; margin-bottom: -1%\">\n",
    "<hr style=\"border: solid 1px red; margin-bottom: -1%; \">\n",
    "&nbsp;"
   ]
  },
  {
   "cell_type": "code",
   "execution_count": null,
   "metadata": {
    "collapsed": false,
    "slideshow": {
     "slide_type": "-"
    }
   },
   "outputs": [],
   "source": [
    "# easy way to save data to text file\n",
    "pts = 5; x = np.arange(pts); y = np.random.random(pts);"
   ]
  },
  {
   "cell_type": "code",
   "execution_count": null,
   "metadata": {
    "collapsed": false
   },
   "outputs": [],
   "source": [
    "# format specifiers: d = int, f = float, e = scientific\n",
    "np.savetxt('savedata.txt', np.c_[x,y], header = 'DATA', footer = 'END',\n",
    "           fmt = '%d %1.4f')"
   ]
  },
  {
   "cell_type": "code",
   "execution_count": null,
   "metadata": {
    "collapsed": false,
    "slideshow": {
     "slide_type": "-"
    }
   },
   "outputs": [],
   "source": [
    "!cat savedata.txt\n",
    "# One could do ...\n",
    "# p = np.loadtxt('savedata.txt')"
   ]
  },
  {
   "cell_type": "code",
   "execution_count": null,
   "metadata": {
    "collapsed": false,
    "slideshow": {
     "slide_type": "-"
    }
   },
   "outputs": [],
   "source": [
    "# ...but much more flexibility with genfromtext\n",
    "p = np.genfromtxt('savedata.txt', skip_header=2, skip_footer=1); p"
   ]
  },
  {
   "cell_type": "code",
   "execution_count": null,
   "metadata": {
    "collapsed": false,
    "slideshow": {
     "slide_type": "-"
    }
   },
   "outputs": [],
   "source": [
    "# Ex++: what do numpy.save, numpy.load do ?"
   ]
  },
  {
   "cell_type": "markdown",
   "metadata": {
    "slideshow": {
     "slide_type": "slide"
    }
   },
   "source": [
    "<hr style=\"border: solid 1px red; margin-bottom: 2% \">\n",
    "[NumPy] &nbsp; Polynomials &nbsp; I<img src=\"headerlogos.png\"; style=\"float: right; width: 25%; margin-right: -1%; margin-top: 0%; margin-bottom: -1%\">\n",
    "<hr style=\"border: solid 1px red; margin-bottom: -1%; \">\n",
    "\n",
    "Can represent polynomials with the numpy class Polynomial from <i>numpy.polynomial.polynomial</i>.\n",
    "\n",
    "Polynomial([a, b, c, d, e]) is equivalent to $p(x) = a\\,+\\,b\\,x \\,+\\,c\\,x^2\\,+\\,d\\,x^3\\,+\\,e\\,x^4$. <br>\n",
    "For example: \n",
    "\n",
    "  * Polynomial([1,2,3]) is equivalent to $p(x) = 1\\,+\\,2\\,x \\,+\\,3\\,x^2$\n",
    "  \n",
    "  * Polynomial([0,1,0,2,0,3]) is equivalent to $p(x) = x \\,+\\,2\\,x^3\\,+\\,3\\,x^5 $\n"
   ]
  },
  {
   "cell_type": "markdown",
   "metadata": {
    "slideshow": {
     "slide_type": "slide"
    }
   },
   "source": [
    "<hr style=\"border: solid 1px red; margin-bottom: 2% \">\n",
    "[NumPy] &nbsp; Polynomials &nbsp; II<img src=\"headerlogos.png\"; style=\"float: right; width: 25%; margin-right: -1%; margin-top: 0%; margin-bottom: -1%\">\n",
    "<hr style=\"border: solid 1px red; margin-bottom: -1%; \">\n",
    "\n",
    "Can carry out arithmetic operations on polynomials, as well integrate and differentiate them.\n",
    "\n",
    "Can also use the <i>polynomial</i> package to find a least-squares fit to data."
   ]
  },
  {
   "cell_type": "markdown",
   "metadata": {
    "slideshow": {
     "slide_type": "slide"
    }
   },
   "source": [
    "<hr style=\"border: solid 1px red; margin-bottom: 2% \">\n",
    "[NumPy] &nbsp; Polynomials : calculating $\\pi$ &nbsp; I <img src=\"headerlogos.png\"; style=\"float: right; width: 25%; margin-right: -1%; margin-top: 0%; margin-bottom: -1%\">\n",
    "<hr style=\"border: solid 1px red; margin-bottom: -1%; \">\n",
    "\n",
    "The Taylor series expansion for the trigonometric function $\\arctan(y)$ is :<br>\n",
    "\n",
    "&nbsp; &nbsp; &nbsp; $\\arctan ( y) \\, = \\,y - \\frac{y^3}{3} + \\frac{y^5}{5}  - \\frac{y^7}{7}  + \\dots $\n",
    "\n",
    "Now, $\\arctan(1) = \\frac{\\pi}{4} $, so ...\n",
    "\n",
    " &nbsp; &nbsp; &nbsp;$ \\pi  = 4 \\, \\big( - \\frac{1}{3} + \\frac{1}{5} - \\frac{1}{7} + ... \\big) $\n",
    "\n",
    "We can represent the series expansion using a numpy Polynomial, with coefficients: <br>\n",
    "$p(x)$ = [0, &nbsp; 1, &nbsp;  0, &nbsp;  -1/3, &nbsp;  0, &nbsp;  1/5, &nbsp;  0, &nbsp;  -1/7,...], and use it to approximate $\\pi$.\n"
   ]
  },
  {
   "cell_type": "markdown",
   "metadata": {
    "slideshow": {
     "slide_type": "slide"
    }
   },
   "source": [
    "<hr style=\"border: solid 1px red; margin-bottom: 2% \">\n",
    "[NumPy] &nbsp; Polynomials : calculating $\\pi$ &nbsp; II <img src=\"headerlogos.png\"; style=\"float: right; width: 25%; margin-right: -1%; margin-top: 0%; margin-bottom: -1%\">\n",
    "<hr style=\"border: solid 1px red; margin-bottom: -1%; \">\n",
    "&nbsp;"
   ]
  },
  {
   "cell_type": "code",
   "execution_count": null,
   "metadata": {
    "collapsed": false,
    "slideshow": {
     "slide_type": "-"
    }
   },
   "outputs": [],
   "source": [
    "# calculate pi using polynomials\n",
    "# import Polynomial class \n",
    "from numpy.polynomial import Polynomial as poly;\n",
    "num = 100000;\n",
    "denominator = np.arange(num); \n",
    "\n",
    "denominator[3::4] *= -1 # every other odd coefficient is -ve\n",
    "numerator = np.ones(denominator.size); \n",
    "\n",
    "# avoid dividing by zero, drop first element denominator\n",
    "almost = numerator[1:]/denominator[1:]; \n",
    "\n",
    "# make even coefficients zero\n",
    "almost[1::2] = 0\n",
    "\n",
    "# add back zero coefficient\n",
    "coeffs = np.r_[0,almost]; \n",
    "\n",
    "p = poly(coeffs);\n",
    "4*p(1) # pi approximation"
   ]
  },
  {
   "cell_type": "markdown",
   "metadata": {
    "slideshow": {
     "slide_type": "slide"
    }
   },
   "source": [
    "<hr style=\"border: solid 1px red; margin-bottom: 2% \">\n",
    "[NumPy] &nbsp; Performance &nbsp; I <img src=\"headerlogos.png\"; style=\"float: right; width: 25%; margin-right: -1%; margin-top: 0%; margin-bottom: -1%\">\n",
    "<hr style=\"border: solid 1px red; margin-bottom: -1%; \">\n",
    "\n",
    "Python has a convenient timing function called <i><b>timeit</b></i>. \n",
    "\n",
    "* Can use this to measure the execution time of small code snippets.\n",
    "\n",
    "* To use timeit function\n",
    "  * import module timeit and use <i><b>timeit.timeit</b></i>  or\n",
    "  * use magic command <b>%timeit</b> in an IPython shell\n",
    "\n"
   ]
  },
  {
   "cell_type": "markdown",
   "metadata": {
    "slideshow": {
     "slide_type": "slide"
    }
   },
   "source": [
    "<hr style=\"border: solid 1px red; margin-bottom: 2% \">\n",
    "[NumPy] &nbsp; Performance &nbsp; II<img src=\"headerlogos.png\"; style=\"float: right; width: 25%; margin-right: -1%; margin-top: 0%; margin-bottom: -1%\">\n",
    "<hr style=\"border: solid 1px red; margin-bottom: -1%; \">\n",
    "\n",
    "By default, <i>timeit</i>:\n",
    "\n",
    "* Takes the best time out of 3 repeat tests (-r) \n",
    "* takes the average time for a number of iterations (-n) per repeat \n",
    "\n",
    "In an IPython shell:\n",
    "\n",
    "* <i>%timeit &nbsp; <b>-n</b>&lt;iterations&gt; &nbsp; &nbsp;<b>-r</b>&lt;repeats&gt;  &nbsp; &nbsp;&lt;code&gt;</i>\n",
    "  \n",
    "* query %timeit? for more information\n",
    "\n",
    "* https://docs.python.org/2/library/timeit.html\n",
    "\n"
   ]
  },
  {
   "cell_type": "markdown",
   "metadata": {
    "slideshow": {
     "slide_type": "subslide"
    }
   },
   "source": [
    "<hr style=\"border: solid 1px red; margin-bottom: 2% \">\n",
    "[NumPy] &nbsp; Performance : experiments &nbsp; I<img src=\"headerlogos.png\"; style=\"float: right; width: 25%; margin-right: -1%; margin-top: 0%; margin-bottom: -1%\">\n",
    "<hr style=\"border: solid 1px red; margin-bottom: -1%; \">\n",
    "\n",
    "Here are some timeit experiments for you to run."
   ]
  },
  {
   "cell_type": "code",
   "execution_count": null,
   "metadata": {
    "collapsed": false,
    "slideshow": {
     "slide_type": "-"
    }
   },
   "outputs": [],
   "source": [
    "# accessing a 2d array\n",
    "nd = np.arange(100).reshape((10,10))\n",
    "\n",
    "# accessing element of 2d array\n",
    "%timeit -n10000000 -r3 nd[5][5]\n",
    "%timeit -n10000000 -r3 nd[(5,5)]"
   ]
  },
  {
   "cell_type": "code",
   "execution_count": null,
   "metadata": {
    "collapsed": false,
    "slideshow": {
     "slide_type": "-"
    }
   },
   "outputs": [],
   "source": [
    "# Ex: multiplying two vectors\n",
    "x=np.arange(10E7)\n",
    "%timeit -n1 -r10 x*x\n",
    "%timeit -n1 -r10 x**2\n",
    "\n",
    "# Ex++: from the linear algebra package\n",
    "%timeit -n1 -r10 np.dot(x,x) "
   ]
  },
  {
   "cell_type": "markdown",
   "metadata": {
    "slideshow": {
     "slide_type": "subslide"
    }
   },
   "source": [
    "<hr style=\"border: solid 1px red; margin-bottom: 2% \">\n",
    "[NumPy] &nbsp; Performance : experiments &nbsp; II<img src=\"headerlogos.png\"; style=\"float: right; width: 25%; margin-right: -1%; margin-top: 0%; margin-bottom: -1%\">\n",
    "<hr style=\"border: solid 1px red; margin-bottom: -1%; \">\n",
    "&nbsp;\n"
   ]
  },
  {
   "cell_type": "code",
   "execution_count": null,
   "metadata": {
    "collapsed": false,
    "slideshow": {
     "slide_type": "-"
    }
   },
   "outputs": [],
   "source": [
    "import numpy as np\n",
    "# Ex: range functions and iterating in  for loops\n",
    "size = int(1E6);\n",
    "\n",
    "%timeit for x in range(size): x ** 2\n",
    "\n",
    "# faster than range for very large arrays?\n",
    "%timeit for x in xrange(size): x ** 2\n",
    "\n",
    "%timeit for x in np.arange(size): x ** 2\n",
    "\n",
    "%timeit np.arange(size) ** 2"
   ]
  },
  {
   "cell_type": "code",
   "execution_count": 3,
   "metadata": {
    "collapsed": true,
    "slideshow": {
     "slide_type": "-"
    }
   },
   "outputs": [],
   "source": [
    "# Ex: look at the calculating pi code \n",
    "# Make sure you understand it. Time the code."
   ]
  },
  {
   "cell_type": "markdown",
   "metadata": {
    "slideshow": {
     "slide_type": "slide"
    }
   },
   "source": [
    "<hr style=\"border: solid 1px red; margin-bottom: 2% \">\n",
    "[NumPy] &nbsp; Summary <img src=\"headerlogos.png\"; style=\"float: right; width: 25%; margin-right: -1%; margin-top: 0%; margin-bottom: -1%\">\n",
    "<hr style=\"border: solid 1px red; margin-bottom: -1%; \">\n",
    "\n",
    "* NumPy introduces multi-dimensional arrays to Python, which is crucial for efficient scientific computing\n",
    "\n",
    "\n",
    "* It also provides fast numerical routines for scientific computation\n",
    "\n",
    "\n",
    "* Next up: <b>Matplotlib</b>"
   ]
  }
 ],
 "metadata": {
  "celltoolbar": "Slideshow",
  "kernelspec": {
   "display_name": "Python 2",
   "language": "python",
   "name": "python2"
  },
  "language_info": {
   "codemirror_mode": {
    "name": "ipython",
    "version": 2
   },
   "file_extension": ".py",
   "mimetype": "text/x-python",
   "name": "python",
   "nbconvert_exporter": "python",
   "pygments_lexer": "ipython2",
   "version": "2.7.10"
  }
 },
 "nbformat": 4,
 "nbformat_minor": 0
}
