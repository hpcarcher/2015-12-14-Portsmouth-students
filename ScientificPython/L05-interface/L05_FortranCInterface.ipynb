{
 "cells": [
  {
   "cell_type": "markdown",
   "metadata": {
    "slideshow": {
     "slide_type": "slide"
    }
   },
   "source": [
    "\n",
    "<hr style=\"border: solid 1px red; margin-bottom: -1% \">\n",
    "# Python as Glue <img src=\"headerlogos.png\"; style=\"float: right; width: 25%; margin-right: -1%; background-color:transparent;\"> \n",
    "<hr style=\"border: solid 1px red; margin-top: 1.5% \">\n",
    "\n",
    "Kevin Stratford  &nbsp; &nbsp; &nbsp; &nbsp; &nbsp; &nbsp; &nbsp; &nbsp; &nbsp; &nbsp;<a style=\"color: blue\">kevin@epcc.ed.ac.uk</a><br>\n",
    "Emmanouil Farsarakis &nbsp; &nbsp; <a style=\"color: blue\">farsarakis@epcc.ed.ac.uk</a><br><br>\n",
    "\n",
    "\n",
    "Contributing authors: <br>\n",
    "Neelofer Banglawala <br>\n",
    "Andy Turner <br>\n",
    "Arno Proeme <br>\n"
   ]
  },
  {
   "cell_type": "markdown",
   "metadata": {
    "slideshow": {
     "slide_type": "slide"
    }
   },
   "source": [
    "<hr style=\"border: solid 1px red; margin-bottom: 2% \">\n",
    "&nbsp;<img src=\"headerlogos.png\"; style=\"float: right; width: 25%; margin-right: -1%; margin-top: 0%; margin-bottom: -1%\">\n",
    "<hr style=\"border: solid 1px red; margin-bottom: -1%; \">\n",
    "\n",
    "\n",
    "\n",
    "<img src=\"reusematerial.png\"; style=\"float: center; width: 90\"; >"
   ]
  },
  {
   "cell_type": "markdown",
   "metadata": {
    "slideshow": {
     "slide_type": "slide"
    }
   },
   "source": [
    "\n",
    "<hr style=\"border: solid 1px red; margin-bottom: 2% \">\n",
    "&nbsp;<img src=\"headerlogos.png\"; style=\"float: right; width: 25%; margin-right: -1%; margin-top: 0%; margin-bottom: -1%\">\n",
    "<hr style=\"border: solid 1px red; margin-bottom: 1%; \">\n",
    "\n",
    "\n",
    "<div align=\"center\" style=\"float: center; color: blue;\">\n",
    "www.archer.ac.uk <br><br>\n",
    "support@archer.ac.uk\n",
    "</div>\n",
    "\n",
    "<div>\n",
    "<img src=\"epsrclogo.png\"; style=\"float: left; width: 35%; margin-left: 20%; margin-top: 2% \">\n",
    "<img src=\"nerclogo.png\"; style=\"float: left; width: 25%; margin-left: 5%\">\n",
    "</div>\n",
    "<br><br>\n",
    "<br><br>\n",
    "<div>\n",
    "<img src=\"craylogo.png\"; style=\"float: left; width: 30%; margin-left: 10%; margin-top: 6% \">\n",
    "<img src=\"epcclogo.png\"; style=\"float: left; width: 30%; margin-left: 5%; margin-top: 6% \" >\n",
    "<img src=\"ediunilogo.png\"; style=\"float: left; width: 20%; margin-left: 5%; margin-top: 2% \" > \n",
    "</div>\n",
    "<br>\n",
    "<br>\n"
   ]
  },
  {
   "cell_type": "markdown",
   "metadata": {
    "slideshow": {
     "slide_type": "slide"
    }
   },
   "source": [
    "<hr style=\"border: solid 1px red; margin-bottom: 2% \">\n",
    "[Python as Glue] &nbsp; Scientific Workflows &nbsp; <img src=\"headerlogos.png\"; style=\"float: right; width: 25%; margin-right: -1%; margin-top: 0%; margin-bottom: -1%\">\n",
    "<hr style=\"border: solid 1px red; margin-bottom: -1%; \">\n",
    "\n",
    "\n",
    "* Data analysis / Simulation / Numerical computation \n",
    "    * becoming larger amd more complex\n",
    "    * can be time critical\n",
    "    * consuming ever-increasing amounts of resource\n",
    "\n",
    "* There is a need to\n",
    "    * manage data, executable programs; and dispose of output\n",
    "    * develop flexible applications rapidly\n",
    "    * concert (administratively or geographically) disparate resources\n"
   ]
  },
  {
   "cell_type": "markdown",
   "metadata": {
    "slideshow": {
     "slide_type": "slide"
    }
   },
   "source": [
    "<hr style=\"border: solid 1px red; margin-bottom: 2% \">\n",
    "[Python as Glue] &nbsp; Horses for Courses &nbsp;<img src=\"headerlogos.png\"; style=\"float: right; width: 25%; margin-right: -1%; margin-top: 0%; margin-bottom: -1%\">\n",
    "<hr style=\"border: solid 1px red; margin-bottom: -1%; \">\n",
    "\n",
    "\n",
    "* \"Tradiational\" languages (C/C++/Fortran)\n",
    "    * provide large existing pool of standard libraries / standalone executables\n",
    "    * are good as expressing numerical algorithms\n",
    "    * use compilation, admitting fast code\n",
    "\n",
    "* Python\n",
    "    * provides a fast development cycle\n",
    "    * Good at dealing with \"messy\" unstructured data\n",
    "    * Allows easy interaction with data / OS / Internet\n",
    "  \n"
   ]
  },
  {
   "cell_type": "markdown",
   "metadata": {
    "slideshow": {
     "slide_type": "slide"
    }
   },
   "source": [
    "<hr style=\"border: solid 1px red; margin-bottom: 2% \">\n",
    "[Python as Glue] &nbsp; The Best of Both Worlds &nbsp;<img src=\"headerlogos.png\"; style=\"float: right; width: 25%; margin-right: -1%; margin-top: 0%; margin-bottom: -1%\">\n",
    "<hr style=\"border: solid 1px red; margin-bottom: -1%; \">\n",
    "\n",
    "\n",
    "  \n",
    "* Broadly two approaches:\n",
    "\n",
    "    * Loosely coupled: interact via operating system / external service\n",
    "    * Strongly coupled: interact at the level of code API"
   ]
  },
  {
   "cell_type": "markdown",
   "metadata": {
    "slideshow": {
     "slide_type": "slide"
    }
   },
   "source": [
    "<hr style=\"border: solid 1px red; margin-bottom: 2% \">\n",
    "[Python as Glue] &nbsp; Loose Coupling I <img src=\"headerlogos.png\"; style=\"float: right; width: 25%; margin-right: -1%; margin-top: 0%; margin-bottom: -1%\">\n",
    "<hr style=\"border: solid 1px red; margin-bottom: -1%; \">\n",
    "\n",
    "* Standard library includes\n",
    "    * Data handling: strings, data types\n",
    "    * Data persistence, compression archiving\n",
    "    * Data base functionality\n",
    "\n",
    "* Interact with \"outside world\" including\n",
    "    * Operating system\n",
    "    * Internet protocols\n",
    "    * HTML/XML support\n",
    "\n",
    "https://docs.python.org/2/library/"
   ]
  },
  {
   "cell_type": "markdown",
   "metadata": {
    "slideshow": {
     "slide_type": "subslide"
    }
   },
   "source": [
    "<hr style=\"border: solid 1px red; margin-bottom: 2% \">\n",
    "[Python as Glue] &nbsp; Loose Coupling II<img src=\"headerlogos.png\"; style=\"float: right; width: 25%; margin-right: -1%; margin-top: 0%; margin-bottom: -1%\">\n",
    "<hr style=\"border: solid 1px red; margin-bottom: -1%; \">\n",
    "\n",
    "* General workflow:\n",
    "    * Marshal input data / control parameters\n",
    "    * Launch executable program via OS\n",
    "    * Review output\n",
    "    * [Refine and repeat?]\n",
    "\n",
    "* Care with\n",
    "    * portability issues\n",
    "    * interaction with queue systems\n",
    "    * parallelism"
   ]
  },
  {
   "cell_type": "markdown",
   "metadata": {
    "slideshow": {
     "slide_type": "slide"
    }
   },
   "source": [
    "<hr style=\"border: solid 1px red; margin-bottom: 2% \">\n",
    "[Python as Glue] &nbsp; Strong Coupling &nbsp; I<img src=\"headerlogos.png\"; style=\"float: right; width: 25%; margin-right: -1%; margin-top: 0%; margin-bottom: -1%\">\n",
    "<hr style=\"border: solid 1px red; margin-bottom: -1%; \">\n",
    "\n",
    "* Call one language from another\n",
    "    1. python calls target language\n",
    "    2. target language calls python\n",
    "    3. \"two-way coupling\"\n",
    "&nbsp;\n",
    "* We will consider case (1)\n",
    "    * (2) is possible via C native API, but probably not the model we want\n",
    "    * (3) likewise, probably undesirable here\n",
    "    "
   ]
  },
  {
   "cell_type": "markdown",
   "metadata": {
    "slideshow": {
     "slide_type": "subslide"
    }
   },
   "source": [
    "<hr style=\"border: solid 1px red; margin-bottom: 2% \">\n",
    "[Python as Glue] &nbsp; Strong Coupling &nbsp; II<img src=\"headerlogos.png\"; style=\"float: right; width: 25%; margin-right: -1%; margin-top: 0%; margin-bottom: -1%\">\n",
    "<hr style=\"border: solid 1px red; margin-bottom: -1%; \">\n",
    "\n",
    "1. Existing code in target language\n",
    "    * should have well-defined API (i.e., is a library)\n",
    "    * may need to be \"re-entrant\"\n",
    "    * may be parallel\n",
    "\n",
    "\n",
    "* Exact approach depends on\n",
    "    * target language\n",
    "    * whether a clean separation of python/target language is required\n",
    "    * what the python interface should look like"
   ]
  },
  {
   "cell_type": "markdown",
   "metadata": {
    "slideshow": {
     "slide_type": "slide"
    }
   },
   "source": [
    "<hr style=\"border: solid 1px red; margin-bottom: 2% \">\n",
    "[Python as Glue] &nbsp; Fortran &nbsp; I<img src=\"headerlogos.png\"; style=\"float: right; width: 25%; margin-right: -1%; margin-top: 0%; margin-bottom: -1%\">\n",
    "<hr style=\"border: solid 1px red; margin-bottom: -1%; \">\n",
    "\n",
    "* Python style is typically to have\n",
    "    * functions with dummy arguments that remain unchanged\n",
    "    * result object(s) returned via return list\n",
    "\n",
    "* Fortran\n",
    "    * functions with <tt>intent(in)</tt> arguments ok\n",
    "    * subroutines with <tt>intent(inout)</tt> arguments?"
   ]
  },
  {
   "cell_type": "markdown",
   "metadata": {
    "slideshow": {
     "slide_type": "subslide"
    }
   },
   "source": [
    "<hr style=\"border: solid 1px red; margin-bottom: 2% \">\n",
    "[Python as Glue] &nbsp; Fortran &nbsp; II<img src=\"headerlogos.png\"; style=\"float: right; width: 25%; margin-right: -1%; margin-top: 0%; margin-bottom: -1%\">\n",
    "<hr style=\"border: solid 1px red; margin-bottom: -1%; \">\n",
    "\n",
    "* How to proceed\n",
    "    * numpy supplies, as standard, <tt>f2py</tt>\n",
    "    * tool to create python interface directly from Fortran\n",
    "    * Servicable for external subroutines (a la Fortran 77)\n",
    "\n",
    "* In practice, for \"modern\" Fortran\n",
    "    * Number of other tools have been developed\n",
    "    * Most (e.g., <tt>pyfort</tt>) have no active development\n",
    "    * Best option appears to be <tt>f90wrap</tt>\n",
    "\n",
    "https://github.com/jameskermode/f90wrap"
   ]
  },
  {
   "cell_type": "markdown",
   "metadata": {
    "slideshow": {
     "slide_type": "subslide"
    }
   },
   "source": [
    "<hr style=\"border: solid 1px red; margin-bottom: 2% \">\n",
    "[Python as Glue] &nbsp; Fortran &nbsp; III<img src=\"headerlogos.png\"; style=\"float: right; width: 25%; margin-right: -1%; margin-top: 0%; margin-bottom: -1%\">\n",
    "<hr style=\"border: solid 1px red; margin-bottom: -1%; \">\n",
    "\n",
    "* What <tt>f90wrap</tt> does\n",
    "    * command line tool (python)\n",
    "    * operates on Fortran source (<tt>module.f90</tt>)\n",
    "    * generates a simplified Fortran interface module\n",
    "\n",
    "* Uses native compiler to\n",
    "    * compile <tt>module.f90</tt> and the simplified interface\n",
    "    "
   ]
  },
  {
   "cell_type": "markdown",
   "metadata": {
    "slideshow": {
     "slide_type": "subslide"
    }
   },
   "source": [
    "<hr style=\"border: solid 1px red; margin-bottom: 2% \">\n",
    "[Python as Glue] &nbsp; Fortran &nbsp; IV<img src=\"headerlogos.png\"; style=\"float: right; width: 25%; margin-right: -1%; margin-top: 0%; margin-bottom: -1%\">\n",
    "<hr style=\"border: solid 1px red; margin-bottom: -1%; \">\n",
    "\n",
    "* Uses <tt>f2py</tt> to generate\n",
    "    * python extension module describing python interface\n",
    "    * <tt>module.py</tt>\n",
    "    * a shared object <tt>module.so</tt>\n",
    "\n",
    "* From python (script or shell)\n",
    "    * interface available via <tt>import module</tt>"
   ]
  },
  {
   "cell_type": "markdown",
   "metadata": {
    "slideshow": {
     "slide_type": "slide"
    }
   },
   "source": [
    "\n",
    "<hr style=\"border: solid 1px red; margin-bottom: 2% \">\n",
    "[Python as Glue] &nbsp; C/C++ I <img src=\"headerlogos.png\"; style=\"float: right; width: 25%; margin-right: -1%; margin-top: 0%; margin-bottom: -1%\">\n",
    "<hr style=\"border: solid 1px red; margin-bottom: -1%; \">\n",
    "\n",
    "* Python to C/C++\n",
    "    * is a more natural \"match\"\n",
    "    * more interfacing alternatives available\n",
    "\n",
    "* Some provide a clean separation\n",
    "    * C foreign function interface (CFFI)\n",
    "  \n",
    "https://cffi.readthedocs.org/en/latest/"
   ]
  },
  {
   "cell_type": "markdown",
   "metadata": {
    "slideshow": {
     "slide_type": "subslide"
    }
   },
   "source": [
    "\n",
    "<hr style=\"border: solid 1px red; margin-bottom: 2% \">\n",
    "[Python as Glue] &nbsp; C/C++ II <img src=\"headerlogos.png\"; style=\"float: right; width: 25%; margin-right: -1%; margin-top: 0%; margin-bottom: -1%\">\n",
    "<hr style=\"border: solid 1px red; margin-bottom: -1%; \">\n",
    "\n",
    "* Others allow patching code into python\n",
    "    * Weave (part of scipy)\n",
    "    \n",
    "* Other still require \"intermediate\" language\n",
    "    * Cython - C externsions to python\n",
    "    * A superset of python\n",
    "  \n",
    "http://docs.scipy.org/doc/scipy-0.14.0/reference/tutorial/weave.html<br>\n",
    "http://cython.org/"
   ]
  },
  {
   "cell_type": "markdown",
   "metadata": {
    "slideshow": {
     "slide_type": "slide"
    }
   },
   "source": [
    "\n",
    "<hr style=\"border: solid 1px red; margin-bottom: 2% \">\n",
    "[Python as Glue] &nbsp; Summary  <img src=\"headerlogos.png\"; style=\"float: right; width: 25%; margin-right: -1%; margin-top: 0%; margin-bottom: -1%\">\n",
    "<hr style=\"border: solid 1px red; margin-bottom: -1%; \">\n",
    "\n",
    "* Many possibilities\n",
    "    * many are \"work in progress\"\n",
    "    * some will fall by the wayside\n",
    "    \n",
    "* Care required\n",
    "    * choosing what to do in the first place\n",
    "    * identifyying sustainable solutions\n"
   ]
  }
 ],
 "metadata": {
  "celltoolbar": "Slideshow",
  "kernelspec": {
   "display_name": "Python 2",
   "language": "python",
   "name": "python2"
  },
  "language_info": {
   "codemirror_mode": {
    "name": "ipython",
    "version": 2
   },
   "file_extension": ".py",
   "mimetype": "text/x-python",
   "name": "python",
   "nbconvert_exporter": "python",
   "pygments_lexer": "ipython2",
   "version": "2.7.10"
  }
 },
 "nbformat": 4,
 "nbformat_minor": 0
}
