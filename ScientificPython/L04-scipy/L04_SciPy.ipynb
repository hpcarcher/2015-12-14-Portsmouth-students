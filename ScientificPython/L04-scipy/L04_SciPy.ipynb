{
 "cells": [
  {
   "cell_type": "markdown",
   "metadata": {
    "slideshow": {
     "slide_type": "slide"
    }
   },
   "source": [
    "\n",
    "<hr style=\"border: solid 1px red; margin-bottom: -1% \">\n",
    "# SciPy <img src=\"headerlogos.png\"; style=\"float: right; width: 25%; margin-right: -1%; background-color:transparent;\"> \n",
    "<hr style=\"border: solid 1px red; margin-top: 1.5% \">\n",
    "\n",
    "Kevin Stratford  &nbsp; &nbsp; &nbsp; &nbsp; &nbsp; &nbsp; &nbsp; &nbsp; &nbsp; &nbsp;<a style=\"color: blue\">kevin@epcc.ed.ac.uk</a><br>\n",
    "Emmanouil Farsarakis &nbsp; &nbsp; <a style=\"color: blue\">farsarakis@epcc.ed.ac.uk</a><br><br>\n",
    "\n",
    "\n",
    "Other course authors: <br>\n",
    "Neelofer Banglawala <br>\n",
    "Andy Turner <br>\n",
    "Arno Proeme <br>\n",
    "\n"
   ]
  },
  {
   "cell_type": "markdown",
   "metadata": {
    "slideshow": {
     "slide_type": "slide"
    }
   },
   "source": [
    "<hr style=\"border: solid 1px red; margin-bottom: 2% \">\n",
    "&nbsp;<img src=\"headerlogos.png\"; style=\"float: right; width: 25%; margin-right: -1%; margin-top: 0%; margin-bottom: -1%\">\n",
    "<hr style=\"border: solid 1px red; margin-bottom: -1%; \">\n",
    "\n",
    "\n",
    "\n",
    "<img src=\"reusematerial.png\"; style=\"float: center; width: 90\"; >"
   ]
  },
  {
   "cell_type": "markdown",
   "metadata": {
    "slideshow": {
     "slide_type": "slide"
    }
   },
   "source": [
    "\n",
    "<hr style=\"border: solid 1px red; margin-bottom: 2% \">\n",
    "&nbsp;<img src=\"headerlogos.png\"; style=\"float: right; width: 25%; margin-right: -1%; margin-top: 0%; margin-bottom: -1%\">\n",
    "<hr style=\"border: solid 1px red; margin-bottom: 1%; \">\n",
    "\n",
    "\n",
    "<div align=\"center\" style=\"float: center; color: blue;\">\n",
    "www.archer.ac.uk <br><br>\n",
    "support@archer.ac.uk\n",
    "</div>\n",
    "\n",
    "<div>\n",
    "<img src=\"epsrclogo.png\"; style=\"float: left; width: 35%; margin-left: 20%; margin-top: 2% \">\n",
    "<img src=\"nerclogo.png\"; style=\"float: left; width: 25%; margin-left: 5%\">\n",
    "</div>\n",
    "<br><br>\n",
    "<br><br>\n",
    "<div>\n",
    "<img src=\"craylogo.png\"; style=\"float: left; width: 30%; margin-left: 10%; margin-top: 6% \">\n",
    "<img src=\"epcclogo.png\"; style=\"float: left; width: 30%; margin-left: 5%; margin-top: 6% \" >\n",
    "<img src=\"ediunilogo.png\"; style=\"float: left; width: 20%; margin-left: 5%; margin-top: 2% \" > \n",
    "</div>\n",
    "<br>\n",
    "<br>\n",
    "\n"
   ]
  },
  {
   "cell_type": "code",
   "execution_count": null,
   "metadata": {
    "collapsed": false,
    "scrolled": true,
    "slideshow": {
     "slide_type": "skip"
    }
   },
   "outputs": [],
   "source": [
    "%matplotlib inline\n",
    "from scipy import optimize, special\n",
    "import numpy as np\n",
    "import matplotlib.pylab as plt "
   ]
  },
  {
   "cell_type": "markdown",
   "metadata": {
    "slideshow": {
     "slide_type": "slide"
    }
   },
   "source": [
    "<hr style=\"border: solid 1px red; margin-bottom: 2% \">\n",
    "[SciPy] &nbsp; Overview &nbsp; I<img src=\"headerlogos.png\"; style=\"float: right; width: 25%; margin-right: -1%; margin-top: 0%; margin-bottom: -1%\">\n",
    "<hr style=\"border: solid 1px red; margin-bottom: -1%; \">\n",
    "\n",
    "* NumPy provides arrays, basic linear algebra, random number generation, and Fourier transforms\n",
    "\n",
    "* SciPy builds on NumPy (e.g. by using arrays) and expands this with (additional) routines for:\n",
    "\n",
    "  * Linear Algebra and wrappers to LAPACK & BLAS (<i>linalg</i>)\n",
    "  * Numerical Integration (<i>integrate</i>) \n",
    "  * Interpolation (<i>interpolate</i>)\n",
    "  * Optimisation (<i>optimize</i>)\n",
    "  * Special functions (<i>special</i>)\n"
   ]
  },
  {
   "cell_type": "markdown",
   "metadata": {
    "slideshow": {
     "slide_type": "slide"
    }
   },
   "source": [
    "<hr style=\"border: solid 1px red; margin-bottom: 2% \">\n",
    "[SciPy] &nbsp; Overview &nbsp; II<img src=\"headerlogos.png\"; style=\"float: right; width: 25%; margin-right: -1%; margin-top: 0%; margin-bottom: -1%\">\n",
    "<hr style=\"border: solid 1px red; margin-bottom: -1%; \">\n",
    "\n",
    "  * Signal processing (<i>signal</i>)\n",
    "  * image processing (<i>ndimage</i>)\n",
    "  * Fourier transforms (<i>fftpack</i>)\n",
    "  * Statistical functions (<i>stats</i>) \n",
    "  * File IO e.g. read MATLAB files (<i>io</i>)\n",
    "\n",
    "* Useful links\n",
    "  * http://docs.scipy.org/doc/scipy/reference/\n",
    "  * http://scipy-cookbook.readthedocs.org"
   ]
  },
  {
   "cell_type": "markdown",
   "metadata": {
    "slideshow": {
     "slide_type": "slide"
    }
   },
   "source": [
    "<hr style=\"border: solid 1px red; margin-bottom: 2% \">\n",
    "[SciPy] &nbsp; Linear algebra &nbsp; I <img src=\"headerlogos.png\"; style=\"float: right; width: 25%; margin-right: -1%; margin-top: 0%; margin-bottom: -1%\">\n",
    "<hr style=\"border: solid 1px red; margin-bottom: -1%; \">\n",
    "\n",
    "* scipy.linalg is a superset of numpy functionality for linear algebra \n",
    "  * various factorisations, decompositions\n",
    "  * matrix exponentials, trigonometric functions \n",
    "  * particular matrix equations and special matrices\n",
    "  * low-level LAPACK and BLAS routines\n",
    "  * may be faster than numpy (will use BLAS, LAPACK)\n"
   ]
  },
  {
   "cell_type": "markdown",
   "metadata": {
    "slideshow": {
     "slide_type": "slide"
    }
   },
   "source": [
    "<hr style=\"border: solid 1px red; margin-bottom: 2% \">\n",
    "[SciPy] &nbsp; Linear algebra &nbsp; II <img src=\"headerlogos.png\"; style=\"float: right; width: 25%; margin-right: -1%; margin-top: 0%; margin-bottom: -1%\">\n",
    "<hr style=\"border: solid 1px red; margin-bottom: -1%; \">\n",
    "\n",
    "* Routines also for sparse matrices\n",
    "  * storage formats\n",
    "  * iterative algorithms"
   ]
  },
  {
   "cell_type": "markdown",
   "metadata": {
    "slideshow": {
     "slide_type": "slide"
    }
   },
   "source": [
    "<hr style=\"border: solid 1px red; margin-bottom: 2% \">\n",
    "[SciPy] &nbsp; Linear algebra : inverse matrix &nbsp; I<img src=\"headerlogos.png\"; style=\"float: right; width: 25%; margin-right: -1%; margin-top: 0%; margin-bottom: -1%\">\n",
    "<hr style=\"border: solid 1px red; margin-bottom: -1%; \">\n",
    "\n",
    "<p style=\"font-size: 80%\">Let's find inverse of matrix $A$</p>\n",
    "\n",
    "<p style=\"font-size: 75%\">\n",
    "$$A = \n",
    "\\left[ \\begin{array}\n",
    "{rrr}\n",
    "1 & 3 & 5 \\\\\n",
    " 2 & 5 & 1 \\\\\n",
    " 2 & 3 & 8 \\\\\n",
    "\\end{array} \\right]\n",
    "$$</p>\n",
    "\n",
    "<p style=\"font-size: 80%\">which is</p>\n",
    "\n",
    "<p style=\"font-size: 75%\">$$A^{-1} = \n",
    "\\frac{1}{25} \\left[ \\begin{array}\n",
    "{rrr}\n",
    "-37 & 9 & 22\\\\\n",
    "14 & 2 & -9 \\\\ \n",
    "4 & -3 & 1\\\\\n",
    "\\end{array} \\right]\n",
    "= \n",
    "\\left[ \\begin{array}\n",
    "{rrr}\n",
    "-1.48 & 0.36 &  0.88\\\\\n",
    "-0.56 &  0.08 & -0.36 \\\\ \n",
    "0.16 & -0.12 &  0.04\\\\\n",
    "\\end{array} \\right]\n",
    "$$</p>\n",
    "\n",
    "<p style=\"font-size: 80%\">Note that\n",
    "$I = A A^{-1}$, where $I$ is the identity matrix\n",
    "$I = \n",
    "\\left[ \\begin{array}\n",
    "{rrr}\n",
    "1 & 0 & 0 \\\\\n",
    "0 &  1 & 0 \\\\ \n",
    "0 & 0 & 1\\\\\n",
    "\\end{array} \\right]\n",
    "$</p>\n"
   ]
  },
  {
   "cell_type": "markdown",
   "metadata": {
    "slideshow": {
     "slide_type": "subslide"
    }
   },
   "source": [
    "<hr style=\"border: solid 1px red; margin-bottom: 2% \">\n",
    "[SciPy] &nbsp; Linear algebra : inverse matrix &nbsp; II<img src=\"headerlogos.png\"; style=\"float: right; width: 25%; margin-right: -1%; margin-top: 0%; margin-bottom: -1%\">\n",
    "<hr style=\"border: solid 1px red; margin-bottom: -1%; \">\n",
    "&nbsp;\n"
   ]
  },
  {
   "cell_type": "code",
   "execution_count": null,
   "metadata": {
    "collapsed": false,
    "scrolled": true,
    "slideshow": {
     "slide_type": "-"
    }
   },
   "outputs": [],
   "source": [
    "# find inverse of a matrix\n",
    "import numpy as np\n",
    "from scipy import linalg\n",
    "A = np.array( [[1,3,5], [2,5,1], [2,3,8]] )\n",
    "\n",
    "invA = linalg.inv(A)\n",
    "print invA;\n",
    "\n",
    "# check inverse gives identity \n",
    "identity = A.dot(linalg.inv(A))\n",
    "\n",
    "# We round each element to zero decimal places\n",
    "np.abs(np.around(identity, 0))"
   ]
  },
  {
   "cell_type": "markdown",
   "metadata": {
    "slideshow": {
     "slide_type": "slide"
    }
   },
   "source": [
    "<hr style=\"border: solid 1px red; margin-bottom: 2% \">\n",
    "[SciPy] &nbsp; Integration <img src=\"headerlogos.png\"; style=\"float: right; width: 25%; margin-right: -1%; margin-top: 0%; margin-bottom: -1%\">\n",
    "<hr style=\"border: solid 1px red; margin-bottom: -1%; \">\n",
    " \n",
    "* Can solve Ordinary Differential Equations (ODEs) with initial conditions\n",
    "* Routines for numerical integration – single, double and triple integrals"
   ]
  },
  {
   "cell_type": "markdown",
   "metadata": {
    "slideshow": {
     "slide_type": "subslide"
    }
   },
   "source": [
    "<hr style=\"border: solid 1px red; margin-bottom: 2% \">\n",
    "[SciPy] &nbsp; Integration : coupled masses &nbsp; I<img src=\"headerlogos.png\"; style=\"float: right; width: 25%; margin-right: -1%; margin-top: 0%; margin-bottom: -1%\">\n",
    "<hr style=\"border: solid 1px red; margin-bottom: -1%; \">\n",
    "\n",
    "\n",
    "Solve Ordinary Differential Equations (ODEs) with initial conditions, for example normal mode motion of spring-coupled masses. \n",
    "\n",
    "Two masses, $\\bf{m}$, are coupled with springs, each with spring constant $\\bf{k}$. Displacement $\\bf{x_i}$ of each mass is measured from its position of rest.\n",
    "\n",
    "<img src=\"coupledmasses.png\"; style=\"float: right; width: 40%; margin-right: 3%; margin-top: 0%; margin-bottom: -1%\">  <br>\n",
    "\n",
    "\n",
    "\n"
   ]
  },
  {
   "cell_type": "markdown",
   "metadata": {
    "slideshow": {
     "slide_type": "subslide"
    }
   },
   "source": [
    "<hr style=\"border: solid 1px red; margin-bottom: 2% \">\n",
    "[SciPy] &nbsp; Integration : coupled masses &nbsp; II<img src=\"headerlogos.png\"; style=\"float: right; width: 25%; margin-right: -1%; margin-top: 0%; margin-bottom: -1%\">\n",
    "<hr style=\"border: solid 1px red; margin-bottom: -1%; \">\n",
    "\n",
    "<img src=\"coupledmasses.png\"; style=\"float: right; width: 40%; margin-right: 3%; margin-top: 0%; margin-bottom: -1%\">  <br>\n",
    "\n",
    "Assuming small displacements, we can write a system of second-order differential equations to describe the motion of these masses according to Newton's 2nd law of motion, $\\bf{F} = m\\,a$ : <br><br>\n",
    "\n",
    "$m\\,\\ddot{x}_1= -k\\,x_1 +k\\,(x_2-x_1)$ <br>\n",
    "\n",
    "$m\\,\\ddot{x}_2= -k\\,(x_2-x_1) -k\\,x_2$ <br><br>\n",
    "\n"
   ]
  },
  {
   "cell_type": "markdown",
   "metadata": {
    "slideshow": {
     "slide_type": "subslide"
    }
   },
   "source": [
    "<hr style=\"border: solid 1px red; margin-bottom: 2% \">\n",
    "[SciPy] &nbsp; Integration : coupled masses &nbsp; III<img src=\"headerlogos.png\"; style=\"float: right; width: 25%; margin-right: -1%; margin-top: 0%; margin-bottom: -1%\">\n",
    "<hr style=\"border: solid 1px red; margin-bottom: -1%; \">\n",
    "\n",
    "<img src=\"coupledmasses.png\"; style=\"float: right; width: 40%; margin-right: 3%; margin-top: 0%; margin-bottom: -1%\">  <br>\n",
    "\n",
    "To use <i>odeint</i>, we rewrite these as 4 first-order differential equations in terms of the masses velocities, $\\bf{v_i}$: <br><br>\n",
    "\n",
    "\n",
    "$v_1 = \\dot{x_1}$, &nbsp; $\\dot{v_1}=−\\frac{2\\,k}{m}\\,x_1 + \\frac{k}{m}(x_2)$ <br>\n",
    "\n",
    "$v_2 = \\dot{x_2}$, &nbsp; $\\dot{v_2}=−\\frac{2\\,k}{m}\\,x_2 + \\frac{k}{m}(x_1)$ <br>\n",
    "\n",
    "\n"
   ]
  },
  {
   "cell_type": "markdown",
   "metadata": {
    "slideshow": {
     "slide_type": "subslide"
    }
   },
   "source": [
    "<hr style=\"border: solid 1px red; margin-bottom: 2% \">\n",
    "[SciPy] &nbsp; Integration : coupled masses : IV<img src=\"headerlogos.png\"; style=\"float: right; width: 25%; margin-right: -1%; margin-top: 0%; margin-bottom: -1%\">\n",
    "<hr style=\"border: solid 1px red; margin-bottom: -1%; \">\n",
    "\n",
    "Exact time-dependent solution for displacement of masses (assuming zero initial velocities)"
   ]
  },
  {
   "cell_type": "markdown",
   "metadata": {
    "slideshow": {
     "slide_type": "notes"
    }
   },
   "source": [
    "Notes\n",
    "* explain what np.vectorize does (doesn't necessarily make code run faster, just convenient way to vectorize your function)\n",
    "* only need `%matplotlib inline` command for notebooks"
   ]
  },
  {
   "cell_type": "code",
   "execution_count": null,
   "metadata": {
    "collapsed": true,
    "scrolled": true,
    "slideshow": {
     "slide_type": "-"
    }
   },
   "outputs": [],
   "source": [
    "%matplotlib inline\n",
    "import numpy as np;"
   ]
  },
  {
   "cell_type": "code",
   "execution_count": null,
   "metadata": {
    "collapsed": false,
    "scrolled": true,
    "slideshow": {
     "slide_type": "-"
    }
   },
   "outputs": [],
   "source": [
    "def x1_t(t,x1,x2,k,m): # exact solution for mass 1 at time t\n",
    "    w=np.sqrt(k/m);    # initial velocity assumed zero\n",
    "    a1=(x1+x2)/2.0;\n",
    "    a2=(x1-x2)/2.0;\n",
    "    return a1*np.cos(w*t) + a2*np.cos(np.sqrt(3)*w*t);\n",
    "\n",
    "def x2_t(t,x1,x2,k,m): # exact solution for mass 2 at time t\n",
    "    w=np.sqrt(k/m);    # initial velocity assumed zero\n",
    "    a1=(x1+x2)/2.0;\n",
    "    a2=(x1-x2)/2.0;\n",
    "    return a1*np.cos(w*t) - a2*np.cos(np.sqrt(3)*w*t);"
   ]
  },
  {
   "cell_type": "markdown",
   "metadata": {
    "slideshow": {
     "slide_type": "subslide"
    }
   },
   "source": [
    "<hr style=\"border: solid 1px red; margin-bottom: 2% \">\n",
    "[SciPy] &nbsp; Integration : coupled masses : V<img src=\"headerlogos.png\"; style=\"float: right; width: 25%; margin-right: -1%; margin-top: 0%; margin-bottom: -1%\">\n",
    "<hr style=\"border: solid 1px red; margin-bottom: -1%; \">\n",
    "\n",
    "\n",
    "Set up a function to give to the ODE solver (LSODA explicit solver from FORTRAN library odepack)"
   ]
  },
  {
   "cell_type": "code",
   "execution_count": null,
   "metadata": {
    "collapsed": false,
    "scrolled": true,
    "slideshow": {
     "slide_type": "-"
    }
   },
   "outputs": [],
   "source": [
    "# \"vectorize\" solutions to act on an array of times \n",
    "x1_sol = np.vectorize(x1_t);\n",
    "x2_sol = np.vectorize(x2_t);"
   ]
  },
  {
   "cell_type": "code",
   "execution_count": null,
   "metadata": {
    "collapsed": false,
    "scrolled": true,
    "slideshow": {
     "slide_type": "-"
    }
   },
   "outputs": [],
   "source": [
    "def vectorfield(w, t, p):\n",
    "    \"\"\"Defines differential equations for the coupled masses\n",
    "        w :  vector of the state variables: w = [x1,v1,x2,v2]\n",
    "        t :  time\n",
    "        p :  vector of the parameters: p = [m,k] \"\"\"\n",
    "    x1, v1, x2, v2 = w;\n",
    "    m, k = p;\n",
    "\n",
    "    # Create f = (x1',y1',x2',y2'):\n",
    "    f = [v1, (-k * x1 + k * (x2 - x1)) / m, \n",
    "         v2, (-k * x2 - k * (x2 - x1)) / m];\n",
    "    return f;"
   ]
  },
  {
   "cell_type": "markdown",
   "metadata": {
    "slideshow": {
     "slide_type": "subslide"
    }
   },
   "source": [
    "<hr style=\"border: solid 1px red; margin-bottom: 2% \">\n",
    "[SciPy] &nbsp; Integration : coupled masses &nbsp; VI<img src=\"headerlogos.png\"; style=\"float: right; width: 25%; margin-right: -1%; margin-top: 0%; margin-bottom: -1%\">\n",
    "<hr style=\"border: solid 1px red; margin-bottom: -1%; \">\n",
    "\n",
    "Use <i>odeint</i> to numerically solve ODEs with initial conditions</p>"
   ]
  },
  {
   "cell_type": "code",
   "execution_count": null,
   "metadata": {
    "collapsed": false,
    "scrolled": true,
    "slideshow": {
     "slide_type": "-"
    }
   },
   "outputs": [],
   "source": [
    "# Use ODEINT to solve ODES defined by vectorfield\n",
    "from scipy.integrate import odeint;"
   ]
  },
  {
   "cell_type": "code",
   "execution_count": null,
   "metadata": {
    "collapsed": true,
    "scrolled": true,
    "slideshow": {
     "slide_type": "-"
    }
   },
   "outputs": [],
   "source": [
    "# Parameters and initial values\n",
    "m = 1.0; k = 1.0;     # mass m, spring constant k\n",
    "x01 = 0.5; x02 = 0.0; # Initial displacements\n",
    "v01 = 0.0; v02 = 0.0; # Initial velocities : LEAVE AS ZERO "
   ]
  },
  {
   "cell_type": "code",
   "execution_count": null,
   "metadata": {
    "collapsed": true,
    "scrolled": true,
    "slideshow": {
     "slide_type": "-"
    }
   },
   "outputs": [],
   "source": [
    "# ODE solver parameters\n",
    "abserr = 1.0e-8; relerr = 1.0e-6; \n",
    "stoptime = 10.0; numpoints = 250;"
   ]
  },
  {
   "cell_type": "markdown",
   "metadata": {
    "slideshow": {
     "slide_type": "subslide"
    }
   },
   "source": [
    "<hr style=\"border: solid 1px red; margin-bottom: 2% \">\n",
    "[SciPy] &nbsp; Integration : coupled masses &nbsp; VI<img src=\"headerlogos.png\"; style=\"float: right; width: 25%; margin-right: -1%; margin-top: 0%; margin-bottom: -1%\">\n",
    "<hr style=\"border: solid 1px red; margin-bottom: -1%; \">\n",
    "\n",
    "\n",
    "Use <i>odeint</i> to numerically solve ODEs with initial conditions"
   ]
  },
  {
   "cell_type": "code",
   "execution_count": null,
   "metadata": {
    "collapsed": true,
    "scrolled": true,
    "slideshow": {
     "slide_type": "-"
    }
   },
   "outputs": [],
   "source": [
    "# Create time samples for the output of the ODE solver\n",
    "t = np.linspace(0, stoptime, numpoints);"
   ]
  },
  {
   "cell_type": "code",
   "execution_count": null,
   "metadata": {
    "collapsed": false,
    "scrolled": true,
    "slideshow": {
     "slide_type": "-"
    }
   },
   "outputs": [],
   "source": [
    "# Pack up the parameters and initial conditions as lists/arrays:\n",
    "p =  [m, k];  w0 = [x01, v01, x02, v02];\n",
    "\n",
    "# Call the ODE solver. Note: args is a tuple\n",
    "wsol = odeint(vectorfield, w0, t, args=(p,), atol=abserr, \n",
    "              rtol=relerr);"
   ]
  },
  {
   "cell_type": "code",
   "execution_count": null,
   "metadata": {
    "collapsed": true,
    "scrolled": true,
    "slideshow": {
     "slide_type": "-"
    }
   },
   "outputs": [],
   "source": [
    "# Print and save the solution\n",
    "with open('coupled_masses.dat', 'w') as f: \n",
    "    for t1, w1 in zip(t, wsol):\n",
    "        print >> f, t1, w1[0], w1[1], w1[2], w1[3]"
   ]
  },
  {
   "cell_type": "markdown",
   "metadata": {
    "slideshow": {
     "slide_type": "subslide"
    }
   },
   "source": [
    "<hr style=\"border: solid 1px red; margin-bottom: 2% \">\n",
    "[SciPy] &nbsp; Integration : coupled masses &nbsp; VII<img src=\"headerlogos.png\"; style=\"float: right; width: 25%; margin-right: -1%; margin-top: 0%; margin-bottom: -1%\">\n",
    "<hr style=\"border: solid 1px red; margin-bottom: -1%; \">\n",
    "\n",
    "Plot exact solutions against saved numerical solutions"
   ]
  },
  {
   "cell_type": "code",
   "execution_count": null,
   "metadata": {
    "collapsed": false
   },
   "outputs": [],
   "source": [
    "import numpy as np\n",
    "a=np.array([[0,1,2],[3,4,5]]); b=np.array([[-5,-6,-7],[-8,-9,-10]])\n",
    "print np.dstack((a,b)).shape\n",
    "print a.shape"
   ]
  },
  {
   "cell_type": "code",
   "execution_count": null,
   "metadata": {
    "collapsed": false,
    "scrolled": true,
    "slideshow": {
     "slide_type": "-"
    }
   },
   "outputs": [],
   "source": [
    "# import modules for plotting\n",
    "import matplotlib.pyplot as plt;\n",
    "from matplotlib.font_manager import FontProperties;\n",
    "\n",
    "# get saved values from saved file\n",
    "t, x1, v1, x2, v2 = np.loadtxt('coupled_masses.dat', unpack=True);\n",
    "\n",
    "# contd..."
   ]
  },
  {
   "cell_type": "markdown",
   "metadata": {
    "slideshow": {
     "slide_type": "subslide"
    }
   },
   "source": [
    "<hr style=\"border: solid 1px red; margin-bottom: 2% \">\n",
    "[SciPy] &nbsp; Integration : coupled masses &nbsp; VIII<img src=\"headerlogos.png\"; style=\"float: right; width: 25%; margin-right: -1%; margin-top: 0%; margin-bottom: -1%\">\n",
    "<hr style=\"border: solid 1px red; margin-bottom: -1%; \">\n",
    "\n",
    "\n",
    "Plot exact solutions against saved numerical solutions"
   ]
  },
  {
   "cell_type": "code",
   "execution_count": null,
   "metadata": {
    "collapsed": false,
    "scrolled": false,
    "slideshow": {
     "slide_type": "-"
    }
   },
   "outputs": [],
   "source": [
    "# figure proporties\n",
    "plt.figure(1, figsize=(10, 3.5)); plt.xlabel('t'); \n",
    "plt.ylabel('x'); plt.grid(True); plt.hold(True); \n",
    "\n",
    "# plot exact solutions\n",
    "time=np.linspace(0,stoptime,50);\n",
    "\n",
    "plt.plot(time, x1_sol(time,x01,x02,k,m), 'r*', linewidth=1);\n",
    "plt.plot(time, x2_sol(time,x01,x02,k,m), 'mo', linewidth=1);\n",
    "\n",
    "# plot numerical solutions\n",
    "plt.plot(t, x1, 'b-', linewidth=1); plt.plot(t, x2, 'g-', linewidth=1);\n",
    "\n",
    "plt.legend(('$x_{1,sol}$', '$x_{2,sol}$', '$x_{1,num}$', \n",
    "        '$x_{2,num}$'),prop=FontProperties(size=12));\n",
    "plt.title('Mass Displacements for the\\nCoupled Spring-Mass System');\n",
    "plt.savefig('coupled_masses.png', dpi=100); # save figure"
   ]
  },
  {
   "cell_type": "markdown",
   "metadata": {
    "slideshow": {
     "slide_type": "slide"
    }
   },
   "source": [
    "<hr style=\"border: solid 1px red; margin-bottom: 2% \">\n",
    "[SciPy] &nbsp; Other packages<img src=\"headerlogos.png\"; style=\"float: right; width: 25%; margin-right: -1%; margin-top: 0%; margin-bottom: -1%\">\n",
    "<hr style=\"border: solid 1px red; margin-bottom: -1%; \">\n",
    "\n",
    "* Pandas : R-like statistical analysis of numerical tables and time series\n",
    "\n",
    "* SymPy : library for symbolic computing\n",
    "\n",
    "* scikit-image : advanced image processing\n",
    "  \n",
    "* Sage : open source replacement for Mathematica / Maple / Matlab (built using Python)"
   ]
  },
  {
   "cell_type": "markdown",
   "metadata": {
    "slideshow": {
     "slide_type": "slide"
    }
   },
   "source": [
    "<hr style=\"border: solid 1px red; margin-bottom: 2% \">\n",
    "[SciPy] &nbsp; Summary<img src=\"headerlogos.png\"; style=\"float: right; width: 25%; margin-right: -1%; margin-top: 0%; margin-bottom: -1%\">\n",
    "<hr style=\"border: solid 1px red; margin-bottom: -1%; \">\n",
    "\n",
    "* Only just skimmed the surface of what SciPy has to offer\n",
    "\n",
    "\n",
    "* Close integration with NumPy and the use of Matplotlib makes it easy to do scientific computation\n",
    "\n",
    "\n",
    "* Next session: <b>Interfacing with Fortran/C</b>"
   ]
  }
 ],
 "metadata": {
  "celltoolbar": "Slideshow",
  "kernelspec": {
   "display_name": "Python 2",
   "language": "python",
   "name": "python2"
  },
  "language_info": {
   "codemirror_mode": {
    "name": "ipython",
    "version": 2
   },
   "file_extension": ".py",
   "mimetype": "text/x-python",
   "name": "python",
   "nbconvert_exporter": "python",
   "pygments_lexer": "ipython2",
   "version": "2.7.10"
  }
 },
 "nbformat": 4,
 "nbformat_minor": 0
}
