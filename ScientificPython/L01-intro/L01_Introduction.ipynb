{
 "cells": [
  {
   "cell_type": "markdown",
   "metadata": {
    "collapsed": true,
    "slideshow": {
     "slide_type": "slide"
    }
   },
   "source": [
    "# <hr style=\"border: solid 1px red; margin-bottom: -1% \">\n",
    "# Scientific Python <img src=\"headerlogos.png\"; style=\"float: right; width: 25%; margin-right: -1%; background-color:transparent;\"> \n",
    "<hr style=\"border: solid 1px red; margin-top: 1.5% \">\n",
    "\n",
    "Kevin Stratford  &nbsp; &nbsp; &nbsp; &nbsp; &nbsp; &nbsp; &nbsp; &nbsp; &nbsp; &nbsp;<a style=\"color: blue\">kevin@epcc.ed.ac.uk</a><br>\n",
    "Emmanouil Farsarakis &nbsp; &nbsp; <a style=\"color: blue\">farsarakis@epcc.ed.ac.uk</a><br><br>\n",
    "\n",
    "\n",
    "Other course authors: <br>\n",
    "Neelofer Banglawala <br>\n",
    "Andy Turner <br>\n",
    "Arno Proeme <br>\n"
   ]
  },
  {
   "cell_type": "markdown",
   "metadata": {
    "slideshow": {
     "slide_type": "slide"
    }
   },
   "source": [
    "<hr style=\"border: solid 1px red; margin-bottom: 2% \">\n",
    "&nbsp;<img src=\"headerlogos.png\"; style=\"float: right; width: 25%; margin-right: -1%; margin-top: 0%; margin-bottom: -1%\">\n",
    "<hr style=\"border: solid 1px red; margin-bottom: -1%; \">\n",
    "\n",
    "\n",
    "\n",
    "<img src=\"reusematerial.png\"; style=\"float: center; width: 90\"; >\n"
   ]
  },
  {
   "cell_type": "markdown",
   "metadata": {
    "slideshow": {
     "slide_type": "slide"
    }
   },
   "source": [
    "\n",
    "<hr style=\"border: solid 1px red; margin-bottom: 2% \">\n",
    "&nbsp;<img src=\"headerlogos.png\"; style=\"float: right; width: 25%; margin-right: -1%; margin-top: 0%; margin-bottom: -1%\">\n",
    "<hr style=\"border: solid 1px red; margin-bottom: 1%; \">\n",
    "\n",
    "\n",
    "<div align=\"center\" style=\"float: center; color: blue;\">\n",
    "www.archer.ac.uk <br><br>\n",
    "support@archer.ac.uk\n",
    "</div>\n",
    "\n",
    "<div>\n",
    "<img src=\"epsrclogo.png\"; style=\"float: left; width: 35%; margin-left: 20%; margin-top: 2% \">\n",
    "<img src=\"nerclogo.png\"; style=\"float: left; width: 25%; margin-left: 5%\">\n",
    "</div>\n",
    "<br><br>\n",
    "<br><br>\n",
    "<div>\n",
    "<img src=\"craylogo.png\"; style=\"float: left; width: 30%; margin-left: 10%; margin-top: 6% \">\n",
    "<img src=\"epcclogo.png\"; style=\"float: left; width: 30%; margin-left: 5%; margin-top: 6% \" >\n",
    "<img src=\"ediunilogo.png\"; style=\"float: left; width: 20%; margin-left: 5%; margin-top: 2% \" > \n",
    "</div>\n",
    "<br>\n",
    "<br>\n",
    "\n",
    "\n"
   ]
  },
  {
   "cell_type": "markdown",
   "metadata": {
    "slideshow": {
     "slide_type": "slide"
    }
   },
   "source": [
    "<hr style=\"border: solid 1px red; margin-bottom: 2% \">\n",
    "[Intro] &nbsp; Course overview <img src=\"headerlogos.png\"; style=\"float: right; width: 25%; margin-right: -1%; margin-top: 0%; margin-bottom: -1%\">\n",
    "<hr style=\"border: solid 1px red; margin-bottom: -1%; \">\n",
    "\n",
    "Course website  <br>\n",
    "&nbsp; &nbsp; &nbsp;  https://hpcarcher.github.io/2015-12-14-Portsmouth/\n",
    "\n",
    "\n",
    "<img src=\"timetable.png\"; style=\"float: right; width: 50%; margin-right: 0%; margin-top: 1%; margin-bottom: 1%\">\n",
    "\n",
    "\n",
    "Course material <br>\n",
    "&nbsp; &nbsp; &nbsp; as above\n",
    "    "
   ]
  },
  {
   "cell_type": "markdown",
   "metadata": {
    "slideshow": {
     "slide_type": "slide"
    }
   },
   "source": [
    "<hr style=\"border: solid 1px red; margin-bottom: 2% \">\n",
    "[Intro] &nbsp; Scientific computing <img src=\"headerlogos.png\"; style=\"float: right; width: 25%; margin-right: -1%; margin-top: 0%; margin-bottom: -1%\">\n",
    "<hr style=\"border: solid 1px red; margin-bottom: -1%; \">\n",
    "\n",
    "Typical workflow\n",
    "\n",
    "* <b>Generate data</b> usually from simulation on HPC facilities (also from experiment!)\n",
    "\n",
    "* <b>Process data</b> to generate appropriate results\n",
    "\n",
    "* <b>Visualise results</b> to understand the significance of our work and gain scientific understanding\n",
    "\n",
    "* <b>Communicate results</b> through publications, presentations, web, etc.\n",
    "\n",
    "<br>\n",
    "<br>\n"
   ]
  },
  {
   "cell_type": "markdown",
   "metadata": {
    "collapsed": true,
    "slideshow": {
     "slide_type": "slide"
    }
   },
   "source": [
    "<hr style=\"border: solid 1px red; margin-bottom: 2% \">\n",
    "[Intro] &nbsp; Why Python? <img src=\"headerlogos.png\"; style=\"float: right; width: 25%; margin-right: -1%; margin-top: 0%; margin-bottom: -1%\">\n",
    "<hr style=\"border: solid 1px red; margin-bottom: -1%; \">\n",
    "\n",
    "<img src=\"pythonlogo.jpg\"; style=\"float: right;  width: 10%; margin-right: 10%; margin-top: 1%\">\n",
    "  \n",
    "\n",
    "Python is a very flexible tool\n",
    "\n",
    "* Simple to learn\n",
    "* Can program \"procedurally\" or use full-blown OOP\n",
    "* High level: focus on what code does not how to write it\n",
    "* Interactive python shell aids rapid prototyping\n",
    "* Extensive standard library (and packages)\n",
    "\n",
    "\n",
    "<br>\n"
   ]
  },
  {
   "cell_type": "markdown",
   "metadata": {
    "slideshow": {
     "slide_type": "slide"
    }
   },
   "source": [
    "<hr style=\"border: solid 1px red; margin-bottom: 2% \">\n",
    "[Intro] &nbsp; For scientific computing? <img src=\"headerlogos.png\"; style=\"float: right; width: 25%; margin-right: -1%; margin-top: 0%; margin-bottom: -1%\">\n",
    "<hr style=\"border: solid 1px red; margin-bottom: -1%; \">\n",
    "\n",
    "<img src=\"pythonlogo.jpg\"; style=\"float: right;  width: 10%; margin-right: 10%; margin-top: 1%\">\n",
    "  \n",
    "Rich set of scientific computing functionality\n",
    "\n",
    "* Standard numerical and scientific libraries\n",
    "* Extensive graphical functionality\n",
    "* Can interface with existing C/C++/Fortran code\n",
    "* Good for control of complex \"workflow\"\n",
    "\n",
    "<br>\n",
    "<br>"
   ]
  },
  {
   "cell_type": "markdown",
   "metadata": {
    "slideshow": {
     "slide_type": "slide"
    }
   },
   "source": [
    "<hr style=\"border: solid 1px red; margin-bottom: 2% \">\n",
    "[Intro] &nbsp; And... <img src=\"headerlogos.png\"; style=\"float: right; width: 25%; margin-right: -1%; margin-top: 0%; margin-bottom: -1%\">\n",
    "<hr style=\"border: solid 1px red; margin-bottom: -1%; \">\n",
    "\n",
    "  <img src=\"pythonlogo.jpg\"; style=\"float: right;  width: 10%; margin-right: 10%; margin-top: 1%\">\n",
    "\n",
    "* Free and Open Source\n",
    "  \n",
    "* Interactive Python is an alternative to Matlab, R\n",
    "\n",
    "* Currently a \"growth area\"\n",
    "\n",
    "* Useful links\n",
    "\n",
    "  * https://www.python.org/\n",
    "  * http://www.scipy.org/\n",
    "\n",
    "<br>\n",
    "<br>"
   ]
  },
  {
   "cell_type": "markdown",
   "metadata": {
    "slideshow": {
     "slide_type": "slide"
    }
   },
   "source": [
    "<hr style=\"border: solid 1px red; margin-bottom: 2% \">\n",
    "[Intro] &nbsp; Core packages for scientific computing <img src=\"headerlogos.png\"; style=\"float: right; width: 25%; margin-right: -1%; margin-top: 0%; margin-bottom: -1%\">\n",
    "<hr style=\"border: solid 1px red; margin-bottom: -1%; \">\n",
    "\n",
    "* <b>IPython</b> -  an advanced interactive shell\n",
    "\n",
    "* <b>NumPy</b> - tools for manipulating numerical arrays\n",
    "\n",
    "* <b>Matplotlib</b> - plotting in 2D and 3D\n",
    "\n",
    "* <b>SciPy</b> - High-level scientific routines for common algorithms e.g. numerical integration, optimisation, Fourier transforms\n",
    "\n",
    "<br>\n",
    "<br>"
   ]
  },
  {
   "cell_type": "markdown",
   "metadata": {
    "slideshow": {
     "slide_type": "slide"
    }
   },
   "source": [
    "<hr style=\"border: solid 1px red; margin-bottom: 2% \">\n",
    "[Intro] &nbsp; Other useful packages<img src=\"headerlogos.png\"; style=\"float: right; width: 25%; margin-right: -1%; margin-top: 0%; margin-bottom: -1%\">\n",
    "<hr style=\"border: solid 1px red; margin-bottom: -1%; \">\n",
    "\n",
    " \n",
    "* <b>mpi4py</b> : message passing parallel programming\n",
    "\n",
    "* <b>pandas</b> : data analysis library\n",
    "\n",
    "* <b>scikit-learn</b> : machine learning\n",
    "\n",
    "... and many more ... "
   ]
  },
  {
   "cell_type": "markdown",
   "metadata": {
    "slideshow": {
     "slide_type": "slide"
    }
   },
   "source": [
    "<hr style=\"border: solid 1px red; margin-bottom: 2% \">\n",
    "[Intro] &nbsp; Some cautions<img src=\"headerlogos.png\"; style=\"float: right; width: 25%; margin-right: -1%; margin-top: 0%; margin-bottom: -1%\">\n",
    "<hr style=\"border: solid 1px red; margin-bottom: -1%; \">\n",
    "\n",
    " \n",
    "* Some backward compatability problems between versions 3.x and 2.x\n",
    "\n",
    "* Many packages can risk complex dependency \"sprawl\"\n",
    "\n",
    "* It's interpreted\n",
    "\n",
    "* HPC tools (debuggers, profilers) lag behind compiled languages"
   ]
  },
  {
   "cell_type": "markdown",
   "metadata": {
    "slideshow": {
     "slide_type": "slide"
    }
   },
   "source": [
    "<hr style=\"border: solid 1px red; margin-bottom: 2% \">\n",
    "[Intro] &nbsp; How to run Python?<img src=\"headerlogos.png\"; style=\"float: right; width: 25%; margin-right: -1%; margin-top: 0%; margin-bottom: -1%\">\n",
    "<hr style=\"border: solid 1px red; margin-bottom: -1%; \">\n",
    "\n",
    "\n",
    "Python code is executed by an interpreter:  <b>python</b>\n",
    "\n",
    "Python has two modes of operating:\n",
    "  \n",
    "  * <b>non-interactive</b>\n",
    "  * <b>interactive</b>\n",
    "\n",
    "<br>\n",
    "<br>"
   ]
  },
  {
   "cell_type": "markdown",
   "metadata": {
    "slideshow": {
     "slide_type": "slide"
    }
   },
   "source": [
    "<hr style=\"border: solid 1px red; margin-bottom: 2% \">\n",
    "[Intro] &nbsp; Non-interactive Python<img src=\"headerlogos.png\"; style=\"float: right; width: 25%; margin-right: -1%; margin-top: 0%; margin-bottom: -1%\">\n",
    "<hr style=\"border: solid 1px red; margin-bottom: -1%; \">\n",
    "\n",
    "\n",
    "In <b>non-interactive mode</b>, run the Python interpreter <b>with</b> a file\n",
    "\n",
    "  * <i> ~$ python myscript.py </i>\n",
    "  * Python module files end in <i>.py</i> extension\n",
    "  * ideal for persistent, resueable, large (complex) code \n",
    "\n",
    "<br>\n"
   ]
  },
  {
   "cell_type": "markdown",
   "metadata": {
    "slideshow": {
     "slide_type": "slide"
    }
   },
   "source": [
    "<hr style=\"border: solid 1px red; margin-bottom: 2% \">\n",
    "[Intro] &nbsp; Non-interactive Python : Hello world!<img src=\"headerlogos.png\"; style=\"float: right; width: 25%; margin-right: -1%; margin-top: 0%; margin-bottom: -1%\">\n",
    "<hr style=\"border: solid 1px red; margin-bottom: -1%; \">\n",
    "\n",
    "  \n",
    "<b>Try it!</b> Run \"helloworld.py\" from the command-line (same directory as notebook)\n",
    "\n",
    "~$ python helloworld.py <br>\n",
    "Hello world!<br>\n",
    " \n",
    "<br>\n"
   ]
  },
  {
   "cell_type": "markdown",
   "metadata": {
    "slideshow": {
     "slide_type": "slide"
    }
   },
   "source": [
    "<hr style=\"border: solid 1px red; margin-bottom: 2% \">\n",
    "[Intro] &nbsp; Interactive Python : the Python shell<img src=\"headerlogos.png\"; style=\"float: right; width: 25%; margin-right: -1%; margin-top: 0%; margin-bottom: -1%\">\n",
    "<hr style=\"border: solid 1px red; margin-bottom: -1%; \">\n",
    "\n",
    "\n",
    "\n",
    "<b>Interactive mode</b> : run Python interpreter <b>without</b> a file\n",
    "\n",
    "  * Interpreter runs as a <b>Python shell</b> (interactive Python runtime environment)\n",
    "  * Type Python commands directly into the Python shell (after the prompt &gt;&gt;&gt;)\n",
    "  * Ideal for trying out commands, experimenting\n",
    "  * Use <b>Ctrl+d</b> to exit\n",
    "  * By default, lose session history when you exit shell\n",
    "  \n",
    "<br>\n"
   ]
  },
  {
   "cell_type": "markdown",
   "metadata": {
    "slideshow": {
     "slide_type": "slide"
    }
   },
   "source": [
    "<hr style=\"border: solid 1px red; margin-bottom: 2% \">\n",
    "[Intro] &nbsp; Interactive Python : Hello world!<img src=\"headerlogos.png\"; style=\"float: right; width: 25%; margin-right: -1%; margin-top: 0%; margin-bottom: -1%\">\n",
    "<hr style=\"border: solid 1px red; margin-bottom: -1%; \">\n",
    "\n",
    "\n",
    "<b> Try it! </b> Launch a Python shell and after the prompt type :  &nbsp; <br>\n",
    "<i>print \"Hello world!\" </i>\n",
    "\n",
    "\n",
    "~$ python <br>\n",
    "Python 2.7.10 (default, Jul 01 2015, 09:00:00) <br> \n",
    "[GCC 4.2.1 Compatible Apple LLVM 6.0 (clang-600.0.39)] on darwin<br>\n",
    "Type \"help\", \"copyright\", \"credits\" or \"license\" for more information.<br>\n",
    "&gt;&gt;&gt; print \"Hello world!\"    <br>\n",
    "Hello world!<br>\n",
    "\n",
    "<br>\n"
   ]
  },
  {
   "cell_type": "markdown",
   "metadata": {
    "slideshow": {
     "slide_type": "slide"
    }
   },
   "source": [
    "<hr style=\"border: solid 1px red; margin-bottom: 2% \">\n",
    "[Intro] &nbsp; IPython shell<img src=\"headerlogos.png\"; style=\"float: right; width: 25%; margin-right: -1%; margin-top: 0%; margin-bottom: -1%\">\n",
    "<hr style=\"border: solid 1px red; margin-bottom: -1%; \">\n",
    "\n",
    "* IPython is an enhanced Python shell\n",
    "* Ideal for interactive data manipulation and visualisation\n",
    "* Has features and built-in commands that make it easier to use than the standard Python shell\n",
    "* Launch an IPython shell like a Python shell (<b>without</b> a script): <b>ipython</b>\n",
    "\n",
    "* Useful links : http://ipython.org/\n",
    "\n",
    "\n",
    "<br>\n",
    "\n"
   ]
  },
  {
   "cell_type": "markdown",
   "metadata": {
    "slideshow": {
     "slide_type": "slide"
    }
   },
   "source": [
    "<hr style=\"border: solid 1px red; margin-bottom: 2% \">\n",
    "[Intro] &nbsp; IPython shell : useful commands<img src=\"headerlogos.png\"; style=\"float: right; width: 25%; margin-right: -1%; margin-top: 0%; margin-bottom: -1%\">\n",
    "<hr style=\"border: solid 1px red; margin-bottom: -1%; \">\n",
    "\n",
    "* <b>TAB</b> completion to list available functions in a module e.g. module.a<b>&lt;TAB&gt;</b>\n",
    "* Query what function does with <b>?</b> e.g. function<b>?</b>\n",
    "* 'Magic' commands with <b>%</b>\n",
    "  \n",
    "  * <b>%hist</b> to see commands issued so far\n",
    "  * <b>%save</b> to save commands issued so far\n",
    "  \n",
    "* Paste code straight into IPython shell\n",
    "* Access system commands using <b>!</b>, e.g. <b>!ls -l</b>\n",
    "\n",
    "* Command <b>quickref</b> for a summary of capabilities\n"
   ]
  },
  {
   "cell_type": "markdown",
   "metadata": {
    "slideshow": {
     "slide_type": "slide"
    }
   },
   "source": [
    "<hr style=\"border: solid 1px red; margin-bottom: 2% \">\n",
    "[Intro] &nbsp; IPython shell : Hello world!<img src=\"headerlogos.png\"; style=\"float: right; width: 25%; margin-right: -1%; margin-top: 0%; margin-bottom: -1%\">\n",
    "<hr style=\"border: solid 1px red; margin-bottom: -1%; \">\n",
    "\n",
    "<b>Try it! </b> Launch an IPython shell and print \"Hello world!\"\n",
    "\n",
    "IPython 4.0.0 -- An enhanced Interactive Python.<br>\n",
    "?         -> Introduction and overview of IPython's features.<br>\n",
    "%quickref -> Quick reference.<br>\n",
    "help      -> Python's own help system.<br>\n",
    "object?   -> Details about 'object', use 'object??' for extra details.<br>\n",
    "<br>\n",
    "In [1]: print \"Hello world!\"<br>\n",
    "Hello world!<br>\n"
   ]
  },
  {
   "cell_type": "markdown",
   "metadata": {
    "collapsed": true,
    "slideshow": {
     "slide_type": "slide"
    }
   },
   "source": [
    "<hr style=\"border: solid 1px red; margin-bottom: 2% \">\n",
    "[Intro] &nbsp;  Python basics recap : data types<img src=\"headerlogos.png\"; style=\"float: right; width: 25%; margin-right: -1%; margin-top: 0%; margin-bottom: -1%\">\n",
    "<hr style=\"border: solid 1px red; margin-bottom: -1%;\">\n",
    "\n",
    "\n",
    "* Data types\n",
    "\n",
    "  * <b>integer</b> e.g. -1, <b>float</b> e.g. 3.1412\n",
    "  * <b>string</b> e.g. 'a string' or e.g. \"a string also\"\n",
    "  * Dynamically typed, no explicit declaration\n",
    "  \n",
    "    * e.g. can have x=100, followed by x=\"100\" without error\n",
    "    \n",
    "  * Can cast one data type into another e.g. x=int(\"100\")\n",
    "\n",
    "  "
   ]
  },
  {
   "cell_type": "markdown",
   "metadata": {
    "collapsed": true,
    "slideshow": {
     "slide_type": "slide"
    }
   },
   "source": [
    "<hr style=\"border: solid 1px red; margin-bottom: 2% \">\n",
    "[Intro] &nbsp;  Python basics recap : data types II<img src=\"headerlogos.png\"; style=\"float: right; width: 25%; margin-right: -1%; margin-top: 0%; margin-bottom: -1%\">\n",
    "<hr style=\"border: solid 1px red; margin-bottom: -1%;\">\n",
    "\n",
    "* <b>list</b> : elements can be a mix of types e.g. [3, \"a\", False]\n",
    "* <b>dictionary</b> : like lists with generalised keys <br> e.g. {\"key1\":\"value1\", \"key2\":\"value2\"}\n",
    "* <b>tuple</b> : an immutable sequence e.g. (1,2,3) or  1,2,3\n",
    "  * empty tuple: (&nbsp;)\n",
    "  * \"one-tuple\" must have comma: e.g. (1,)\n",
    "  \n",
    "  <br>"
   ]
  },
  {
   "cell_type": "markdown",
   "metadata": {
    "collapsed": true,
    "slideshow": {
     "slide_type": "slide"
    }
   },
   "source": [
    "<hr style=\"border: solid 1px red; margin-bottom: 2% \">\n",
    "[Intro] &nbsp;  Python basics recap : importing &nbsp; I<img src=\"headerlogos.png\"; style=\"float: right; width: 25%; margin-right: -1%; margin-top: 0%; margin-bottom: -1%\">\n",
    "<hr style=\"border: solid 1px red; margin-bottom: -1%;\">\n",
    "\n",
    "A module is a file (e.g. mymodule.py) containing Python definitions and statements\n",
    "\n",
    "\n",
    "To use functions defined within a module, need to <b>import</b> functionality\n",
    "\n",
    "<br>\n",
    "  "
   ]
  },
  {
   "cell_type": "markdown",
   "metadata": {
    "collapsed": true,
    "slideshow": {
     "slide_type": "slide"
    }
   },
   "source": [
    "<hr style=\"border: solid 1px red; margin-bottom: 2% \">\n",
    "[Intro] &nbsp;  Python basics recap : importing &nbsp; II<img src=\"headerlogos.png\"; style=\"float: right; width: 25%; margin-right: -1%; margin-top: 0%; margin-bottom: -1%\">\n",
    "<hr style=\"border: solid 1px red; margin-bottom: -1%;\">\n",
    "\n",
    "\n",
    "There are several ways to import functionality\n",
    "\n",
    "1. <b>import mymodule</b>, call function as <b>mymodule.afunc</b>\n",
    "2. <b>from mymodule import afunc</b>, call function as <b>afunc</b> \n",
    "3. To save typing, can use alias for imported module\n",
    "  * <b>import mymodule <i>as</i> mod</b>, then use <b>mod.afunc</b>\n",
    "4. <b>Avoid</b> importing everything from a module\n",
    "  * <b>from module import *</b>\n",
    "  "
   ]
  },
  {
   "cell_type": "markdown",
   "metadata": {
    "collapsed": true,
    "slideshow": {
     "slide_type": "slide"
    }
   },
   "source": [
    "<hr style=\"border: solid 1px red; margin-bottom: 2% \">\n",
    "[Intro] &nbsp;  Python basics recap : code structure<img src=\"headerlogos.png\"; style=\"float: right; width: 25%; margin-right: -1%; margin-top: 0%; margin-bottom: -1%\">\n",
    "<hr style=\"border: solid 1px red; margin-bottom: -1%;\">\n",
    "\n",
    "Whitespace matters, code blocks are indented with a tab or 4 spaces (need colons!)\n",
    "  * <b>for</b> item <b>in</b> list:<br>\n",
    "  &nbsp; &nbsp; &nbsp; <i>#do some stuff   </i>\n",
    "  * <b>if</b> condition:<br>\n",
    "  &nbsp; &nbsp; &nbsp; <i>#do some stuff   </i>\n",
    "  * <b>def</b> myfunc(arg1, arg2):<br>\n",
    " &nbsp; &nbsp; &nbsp; <i>#do some stuff   </i>\n"
   ]
  },
  {
   "cell_type": "markdown",
   "metadata": {
    "collapsed": true,
    "slideshow": {
     "slide_type": "slide"
    }
   },
   "source": [
    "<hr style=\"border: solid 1px red; margin-bottom: 2% \">\n",
    "[Intro] &nbsp; Python basics recap : functions I<img src=\"headerlogos.png\"; style=\"float: right; width: 25%; margin-right: -1%; margin-top: 0%; margin-bottom: -1%\">\n",
    "<hr style=\"border: solid 1px red; margin-bottom: -1%;\">\n",
    "\n",
    "* A number of <b>built-in functions</b>\n",
    "    * Available from the interpreter, e.g., <b> len()</b>, <b> int() </b>\n",
    "* <b>Methods</b> related built-in datatypes (objects)\n",
    "    * Via dot notation, e.g., list.append(), list.sort()"
   ]
  },
  {
   "cell_type": "markdown",
   "metadata": {
    "collapsed": true,
    "slideshow": {
     "slide_type": "slide"
    }
   },
   "source": [
    "<hr style=\"border: solid 1px red; margin-bottom: 2% \">\n",
    "[Intro] &nbsp; Python basics recap : functions II<img src=\"headerlogos.png\"; style=\"float: right; width: 25%; margin-right: -1%; margin-top: 0%; margin-bottom: -1%\">\n",
    "<hr style=\"border: solid 1px red; margin-bottom: -1%;\">\n",
    "\n",
    "* Very large selection of <b>standard library</b> packages:\n",
    "  * Always available as part of python\n",
    "  * <b>import</b> required package\n",
    "  * invoke method as <b>package.method()</b>\n",
    "* Growing seleection of additional packages\n",
    "  * May need to install appropriate version\n",
    "  * May need addition to PYTHONPATH\n",
    "  * import package and invoke as above"
   ]
  },
  {
   "cell_type": "markdown",
   "metadata": {
    "collapsed": true,
    "slideshow": {
     "slide_type": "slide"
    }
   },
   "source": [
    "<hr style=\"border: solid 1px red; margin-bottom: 2% \">\n",
    "[Intro] &nbsp; Python basics recap : script files<img src=\"headerlogos.png\"; style=\"float: right; width: 25%; margin-right: -1%; margin-top: 0%; margin-bottom: -1%\">\n",
    "<hr style=\"border: solid 1px red; margin-bottom: -1%;\">\n",
    "\n",
    "* At the top of script files you may see:\n",
    "\n",
    "  * <b><i>#!/usr/bin/env python </i></b>\n",
    "  \n",
    "  * Locate interpreter from your environment's <i>$PATH</i>\n",
    "  \n",
    "* At the bottom of script files you may see:\n",
    "\n",
    "  * <b><i>if \\_\\_name\\_\\_ == \"\\__main\\__\":<br>\n",
    "&nbsp; &nbsp; &nbsp; &nbsp; &nbsp;  import sys<br>\n",
    "&nbsp; &nbsp; &nbsp; &nbsp; &nbsp;  function(sys.argv)</i></b>\n",
    "\n",
    "  * Makes file usable as a script as well as an importable module\n",
    "\n"
   ]
  },
  {
   "cell_type": "markdown",
   "metadata": {
    "collapsed": true,
    "slideshow": {
     "slide_type": "slide"
    }
   },
   "source": [
    "<hr style=\"border: solid 1px red; margin-bottom: 2% \">\n",
    "[Intro] &nbsp; Python basics recap : references<img src=\"headerlogos.png\"; style=\"float: right; width: 25%; margin-right: -1%; margin-top: 0%; margin-bottom: -1%\">\n",
    "<hr style=\"border: solid 1px red; margin-bottom: -1%;\">\n",
    "\n",
    "* Careful - variables are references\n",
    "\n",
    "  * variables are references to objects:<br> let a = 3, b = a; if b = 5 then a = 5  (try it!)\n",
    "\n",
    "* Getting help: make use of online documentation\n",
    "\n",
    "* Documentation\n",
    "\n",
    "  * https://docs.python.org/\n",
    "  * https://www.codecademy.com/learn/python "
   ]
  },
  {
   "cell_type": "markdown",
   "metadata": {
    "slideshow": {
     "slide_type": "slide"
    }
   },
   "source": [
    "<hr style=\"border: solid 1px red; margin-bottom: 2% \">\n",
    "[Intro] &nbsp; Warm-up : exercise &nbsp; I <img src=\"headerlogos.png\"; style=\"float: right; width: 25%; margin-right: -1%; margin-top: 0%; margin-bottom: -1%\">\n",
    "<hr style=\"border: solid 1px red; margin-bottom: -1%; \">\n",
    "\n",
    "Define a function <b>age</b> that takes a list of years between 1950 and 2015 and returns the median age, and the two ages closest to it, where age = 2015 - year. Assume the input list is randomly ordered and has an odd number of elements $N$, where $N >= 3$. So for:\n",
    "\n",
    "  * years = [1989, 1955, 2011, 1943, 1975], <b>age</b> returns [26, 40, 60]\n",
    "  * Note: for a sorted list of numbers, the median is the number in the middle of the list.\n"
   ]
  },
  {
   "cell_type": "markdown",
   "metadata": {
    "slideshow": {
     "slide_type": "slide"
    }
   },
   "source": [
    "<hr style=\"border: solid 1px red; margin-bottom: 2% \">\n",
    "[Intro] &nbsp; Warm-up : exercise &nbsp; II <img src=\"headerlogos.png\"; style=\"float: right; width: 25%; margin-right: -1%; margin-top: 0%; margin-bottom: -1%\">\n",
    "<hr style=\"border: solid 1px red; margin-bottom: -1%; \">\n",
    "\n",
    "Steps to take:\n",
    "\n",
    "  \n",
    "1. You will need to create the input list. You can do this manually or use Python...<br>[Hint: you may want to use <i>random.randint(start, stop)</i>]\n",
    "2. You will need to sort the list\n",
    "3. Use list indexing where possible e.g. list[3:5]\n",
    "4. Make sure to test your function.\n"
   ]
  },
  {
   "cell_type": "markdown",
   "metadata": {
    "slideshow": {
     "slide_type": "slide"
    }
   },
   "source": [
    "<hr style=\"border: solid 1px red; margin-bottom: 2% \">\n",
    "[Intro] &nbsp; Warm-up exercise : a solution <img src=\"headerlogos.png\"; style=\"float: right; width: 25%; margin-right: -1%; margin-top: 0%; margin-bottom: -1%\">\n",
    "<hr style=\"border: solid 1px red; margin-bottom: -1%; \">\n",
    "&nbsp;"
   ]
  },
  {
   "cell_type": "code",
   "execution_count": null,
   "metadata": {
    "collapsed": false,
    "scrolled": false,
    "slideshow": {
     "slide_type": "-"
    }
   },
   "outputs": [],
   "source": [
    "# function to calculate the median age and \n",
    "# its two neighbours from a list of years\n",
    "\n",
    "def medianage(years):\n",
    "    ages=[];\n",
    "    for y in years:\n",
    "        ages.append(2015-y);\n",
    "    ages.sort()\n",
    "    n = len(ages);\n",
    "    mid = n/2;\n",
    "    return ages[mid-1:mid+2];\n",
    "\n",
    "years = [1989, 1955, 2011, 1943, 1975];\n",
    "medianage(years)"
   ]
  },
  {
   "cell_type": "markdown",
   "metadata": {
    "slideshow": {
     "slide_type": "slide"
    }
   },
   "source": [
    "<hr style=\"border: solid 1px red; margin-bottom: 2% \">\n",
    "[Intro] &nbsp; Warm-up : optional &nbsp; I  <img src=\"headerlogos.png\"; style=\"float: right; width: 25%; margin-right: -1%; margin-top: 0%; margin-bottom: -1%\">\n",
    "<hr style=\"border: solid 1px red; margin-bottom: -1%; \">\n",
    "\n",
    "\n",
    "Read the list of years from a text file, 'years.txt', which should have the total number of years $N$ in the first line, followed by a numbered list of years:</p>\n",
    "\n",
    "&nbsp; &nbsp; &nbsp;  total number of years<br>\n",
    "&nbsp; &nbsp; &nbsp;  1 year <br>\n",
    "&nbsp; &nbsp; &nbsp;  ...</p>\n"
   ]
  },
  {
   "cell_type": "markdown",
   "metadata": {
    "slideshow": {
     "slide_type": "slide"
    }
   },
   "source": [
    "<hr style=\"border: solid 1px red; margin-bottom: 2% \">\n",
    "[Intro] &nbsp; Warm-up : optional &nbsp; II  <img src=\"headerlogos.png\"; style=\"float: right; width: 25%; margin-right: -1%; margin-top: 0%; margin-bottom: -1%\">\n",
    "<hr style=\"border: solid 1px red; margin-bottom: -1%; \">\n",
    "\n",
    "To generate the input file 'years.txt', you may need:\n",
    "\n",
    "<i>import sys, &nbsp; yearsfn=open(filename, \"w\"), &nbsp;  input.close()</i>, &nbsp; <i>output.write(\"{0:2d} {1:2d}\\n\".format(i, j))  </i>\n",
    "\n",
    "To read the input file 'years.txt', you may need:\n",
    "\n",
    "input=open(filename, \"w\"),&nbsp; <i>line = infile.readline(), &nbsp;  line.rstrip(), &nbsp;   line.split(), &nbsp; int(\"9\")</i>,\n",
    "\n",
    "Could you use list comprehension (if you haven't already)? <br>\n",
    "&nbsp; &nbsp; &nbsp; &nbsp; &nbsp; E.g. &nbsp; squared = [x*x for x in list]\n"
   ]
  },
  {
   "cell_type": "code",
   "execution_count": null,
   "metadata": {
    "collapsed": false,
    "slideshow": {
     "slide_type": "skip"
    }
   },
   "outputs": [],
   "source": [
    "# extended exercise : create an input file containing\n",
    "# years\n",
    "\n",
    "from random import randint;\n",
    "import sys;\n",
    "import age;\n",
    "\n",
    "years = [1989, 1955, 2011, 1943, 1975];\n",
    "medianage(years);\n",
    "\n",
    "# using list comprehension\n",
    "years = [randint(1950,2015) for x in range(9)]; \n",
    "\n",
    "# save years to file\n",
    "outyears = open(\"years.txt\",'w');\n",
    "i=1\n",
    "# output total number of years\n",
    "outyears.write(\"{0:2d}\\n\".format(len(years2)))\n",
    "               \n",
    "for y in years2:\n",
    "    outyears.write(\"{0:2d} {1:2d}\\n\".format(i, y));\n",
    "    i+=1;\n",
    "    \n",
    "outyears.close();\n",
    "\n",
    "# read file\n",
    "inyears = open(\"years.txt\",\"r\");\n",
    "line = inyears.readline()\n",
    "# remove any newline characters\n",
    "N=int(line);\n",
    "\n",
    "ages=[];\n",
    "yrs=[];\n",
    "for i in range(N):\n",
    "    line = inyears.readline()\n",
    "    line = line.rstrip();\n",
    "    tokens = line.split();\n",
    "    yrs.append(int(tokens[1]));\n",
    "\n",
    "inyears.close()\n",
    "\n",
    "# check...\n",
    "print yrs\n",
    "\n",
    "# get median age\n",
    "medianage(yrs)\n"
   ]
  },
  {
   "cell_type": "markdown",
   "metadata": {
    "slideshow": {
     "slide_type": "slide"
    }
   },
   "source": [
    "<hr style=\"border: solid 1px red; margin-bottom: 2% \">\n",
    "[Intro] Summary <img src=\"headerlogos.png\"; style=\"float: right; width: 25%; margin-right: -1%; margin-top: 0%; margin-bottom: -1%\">\n",
    "<hr style=\"border: solid 1px red; margin-bottom: -1%; \">\n",
    "\n",
    "\n",
    "We have considered why Scientific Computing in Python is a worthwhile pursuit\n",
    "\n",
    "We have reviewed how to use Python together with some Python basics\n",
    "\n",
    "We have also been introduced to the IPython shell\n",
    "\n",
    "We are now ready to explore the packages that constitute the backbone of scientific python \n",
    "\n",
    "Next session : <b>NumPy</b>\n",
    "\n"
   ]
  }
 ],
 "metadata": {
  "celltoolbar": "Slideshow",
  "kernelspec": {
   "display_name": "Python 2",
   "language": "python",
   "name": "python2"
  },
  "language_info": {
   "codemirror_mode": {
    "name": "ipython",
    "version": 2
   },
   "file_extension": ".py",
   "mimetype": "text/x-python",
   "name": "python",
   "nbconvert_exporter": "python",
   "pygments_lexer": "ipython2",
   "version": "2.7.10"
  }
 },
 "nbformat": 4,
 "nbformat_minor": 0
}
